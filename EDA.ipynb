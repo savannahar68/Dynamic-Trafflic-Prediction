{
 "cells": [
  {
   "cell_type": "code",
   "execution_count": 89,
   "metadata": {
    "collapsed": true
   },
   "outputs": [],
   "source": [
    "import numpy as np\n",
    "import pandas as pd\n",
    "import matplotlib.pyplot as plt\n",
    "import seaborn as sb\n",
    "import os"
   ]
  },
  {
   "cell_type": "code",
   "execution_count": 5,
   "metadata": {},
   "outputs": [
    {
     "name": "stdout",
     "output_type": "stream",
     "text": [
      "sample_submission_EZmX9uE.csv 0.0MB\n",
      "test_BdBKkAj.csv              0.41MB\n",
      "train_aWnotuB.csv             1.82MB\n",
      ".gitignore                    0.0MB\n"
     ]
    }
   ],
   "source": [
    "for f in os.listdir('./data'):\n",
    "    print(f.ljust(30) + str(round(os.path.getsize('./data/' + f) / 1000000, 2)) + 'MB')"
   ]
  },
  {
   "cell_type": "code",
   "execution_count": 6,
   "metadata": {
    "collapsed": true
   },
   "outputs": [],
   "source": [
    "def nl():\n",
    "    print('\\n')"
   ]
  },
  {
   "cell_type": "code",
   "execution_count": 92,
   "metadata": {},
   "outputs": [
    {
     "name": "stdout",
     "output_type": "stream",
     "text": [
      "\n",
      "\n",
      "Size of training set: (48120, 4)\n",
      " Size of testing set: (11808, 3)\n",
      "\n",
      "\n",
      "Columns in train: ['DateTime', 'Junction', 'Vehicles', 'ID']\n",
      " Columns in test: ['DateTime', 'Junction', 'ID']\n",
      "\n",
      "\n",
      "           Junction      Vehicles            ID\n",
      "count  48120.000000  48120.000000  4.812000e+04\n",
      "mean       2.180549     22.791334  2.016330e+10\n",
      "std        0.966955     20.750063  5.944854e+06\n",
      "min        1.000000      1.000000  2.015110e+10\n",
      "25%        1.000000      9.000000  2.016042e+10\n",
      "50%        2.000000     15.000000  2.016093e+10\n",
      "75%        3.000000     29.000000  2.017023e+10\n",
      "max        4.000000    180.000000  2.017063e+10\n"
     ]
    }
   ],
   "source": [
    "df_train = pd.read_csv('./data/train_aWnotuB.csv', parse_dates=[0], infer_datetime_format=True)\n",
    "df_test = pd.read_csv('./data/test_BdBKkAj.csv', parse_dates=[0], infer_datetime_format=True)\n",
    "\n",
    "nl()\n",
    "print('Size of training set: ' + str(df_train.shape))\n",
    "print(' Size of testing set: ' + str(df_test.shape))\n",
    "\n",
    "nl()\n",
    "print('Columns in train: ' + str(df_train.columns.tolist()))\n",
    "print(' Columns in test: ' + str(df_test.columns.tolist()))\n",
    "\n",
    "nl()\n",
    "print(df_train.describe())"
   ]
  },
  {
   "cell_type": "code",
   "execution_count": 93,
   "metadata": {},
   "outputs": [
    {
     "data": {
      "text/html": [
       "<div>\n",
       "<style scoped>\n",
       "    .dataframe tbody tr th:only-of-type {\n",
       "        vertical-align: middle;\n",
       "    }\n",
       "\n",
       "    .dataframe tbody tr th {\n",
       "        vertical-align: top;\n",
       "    }\n",
       "\n",
       "    .dataframe thead th {\n",
       "        text-align: right;\n",
       "    }\n",
       "</style>\n",
       "<table border=\"1\" class=\"dataframe\">\n",
       "  <thead>\n",
       "    <tr style=\"text-align: right;\">\n",
       "      <th></th>\n",
       "      <th>DateTime</th>\n",
       "      <th>Junction</th>\n",
       "      <th>Vehicles</th>\n",
       "      <th>ID</th>\n",
       "    </tr>\n",
       "  </thead>\n",
       "  <tbody>\n",
       "    <tr>\n",
       "      <th>0</th>\n",
       "      <td>2015-11-01 00:00:00</td>\n",
       "      <td>1</td>\n",
       "      <td>15</td>\n",
       "      <td>20151101001</td>\n",
       "    </tr>\n",
       "    <tr>\n",
       "      <th>1</th>\n",
       "      <td>2015-11-01 01:00:00</td>\n",
       "      <td>1</td>\n",
       "      <td>13</td>\n",
       "      <td>20151101011</td>\n",
       "    </tr>\n",
       "    <tr>\n",
       "      <th>2</th>\n",
       "      <td>2015-11-01 02:00:00</td>\n",
       "      <td>1</td>\n",
       "      <td>10</td>\n",
       "      <td>20151101021</td>\n",
       "    </tr>\n",
       "    <tr>\n",
       "      <th>3</th>\n",
       "      <td>2015-11-01 03:00:00</td>\n",
       "      <td>1</td>\n",
       "      <td>7</td>\n",
       "      <td>20151101031</td>\n",
       "    </tr>\n",
       "    <tr>\n",
       "      <th>4</th>\n",
       "      <td>2015-11-01 04:00:00</td>\n",
       "      <td>1</td>\n",
       "      <td>9</td>\n",
       "      <td>20151101041</td>\n",
       "    </tr>\n",
       "  </tbody>\n",
       "</table>\n",
       "</div>"
      ],
      "text/plain": [
       "             DateTime  Junction  Vehicles           ID\n",
       "0 2015-11-01 00:00:00         1        15  20151101001\n",
       "1 2015-11-01 01:00:00         1        13  20151101011\n",
       "2 2015-11-01 02:00:00         1        10  20151101021\n",
       "3 2015-11-01 03:00:00         1         7  20151101031\n",
       "4 2015-11-01 04:00:00         1         9  20151101041"
      ]
     },
     "execution_count": 93,
     "metadata": {},
     "output_type": "execute_result"
    }
   ],
   "source": [
    "df_train.head()"
   ]
  },
  {
   "cell_type": "markdown",
   "metadata": {},
   "source": [
    "### Missing values"
   ]
  },
  {
   "cell_type": "code",
   "execution_count": 94,
   "metadata": {},
   "outputs": [
    {
     "name": "stdout",
     "output_type": "stream",
     "text": [
      "DateTime 0\n",
      "Junction 0\n",
      "Vehicles 0\n",
      "ID 0\n"
     ]
    }
   ],
   "source": [
    "labels = []\n",
    "values = []\n",
    "for col in df_train.columns:\n",
    "    labels.append(col)\n",
    "    values.append(df_train[col].isnull().sum())\n",
    "    print(col, values[-1])"
   ]
  },
  {
   "cell_type": "markdown",
   "metadata": {},
   "source": [
    "### Distribution of junctions and vehicles"
   ]
  },
  {
   "cell_type": "code",
   "execution_count": 95,
   "metadata": {},
   "outputs": [
    {
     "data": {
      "image/png": "[encoded data removed]",
      "text/plain": [
       "<matplotlib.figure.Figure at 0x120a17080>"
      ]
     },
     "metadata": {},
     "output_type": "display_data"
    },
    {
     "data": {
      "image/png": "[encoded data removed]",
      "text/plain": [
       "<matplotlib.figure.Figure at 0x12e2495c0>"
      ]
     },
     "metadata": {},
     "output_type": "display_data"
    }
   ],
   "source": [
    "cols_to_use = ['Junction', 'Vehicles']\n",
    "fig = plt.figure(figsize=(8, 20))\n",
    "plot_count = 0\n",
    "for col in cols_to_use:\n",
    "    plot_count += 1\n",
    "    plt.subplot(4, 1, plot_count)\n",
    "    plt.scatter(range(df_train.shape[0]), df_train[col].values)\n",
    "    plt.title(\"Distribution of \"+col)\n",
    "plt.show()"
   ]
  },
  {
   "cell_type": "markdown",
   "metadata": {},
   "source": [
    "### Indexing"
   ]
  },
  {
   "cell_type": "code",
   "execution_count": 69,
   "metadata": {},
   "outputs": [
    {
     "data": {
      "text/html": [
       "<div>\n",
       "<style scoped>\n",
       "    .dataframe tbody tr th:only-of-type {\n",
       "        vertical-align: middle;\n",
       "    }\n",
       "\n",
       "    .dataframe tbody tr th {\n",
       "        vertical-align: top;\n",
       "    }\n",
       "\n",
       "    .dataframe thead th {\n",
       "        text-align: right;\n",
       "    }\n",
       "</style>\n",
       "<table border=\"1\" class=\"dataframe\">\n",
       "  <thead>\n",
       "    <tr style=\"text-align: right;\">\n",
       "      <th></th>\n",
       "      <th>DateTime</th>\n",
       "      <th>Junction</th>\n",
       "      <th>Vehicles</th>\n",
       "      <th>ID</th>\n",
       "    </tr>\n",
       "  </thead>\n",
       "  <tbody>\n",
       "    <tr>\n",
       "      <th>14592</th>\n",
       "      <td>2015-11-01 00:00:00</td>\n",
       "      <td>2</td>\n",
       "      <td>6</td>\n",
       "      <td>20151101002</td>\n",
       "    </tr>\n",
       "    <tr>\n",
       "      <th>14593</th>\n",
       "      <td>2015-11-01 01:00:00</td>\n",
       "      <td>2</td>\n",
       "      <td>6</td>\n",
       "      <td>20151101012</td>\n",
       "    </tr>\n",
       "    <tr>\n",
       "      <th>14594</th>\n",
       "      <td>2015-11-01 02:00:00</td>\n",
       "      <td>2</td>\n",
       "      <td>5</td>\n",
       "      <td>20151101022</td>\n",
       "    </tr>\n",
       "    <tr>\n",
       "      <th>14595</th>\n",
       "      <td>2015-11-01 03:00:00</td>\n",
       "      <td>2</td>\n",
       "      <td>6</td>\n",
       "      <td>20151101032</td>\n",
       "    </tr>\n",
       "    <tr>\n",
       "      <th>14596</th>\n",
       "      <td>2015-11-01 04:00:00</td>\n",
       "      <td>2</td>\n",
       "      <td>7</td>\n",
       "      <td>20151101042</td>\n",
       "    </tr>\n",
       "  </tbody>\n",
       "</table>\n",
       "</div>"
      ],
      "text/plain": [
       "                 DateTime  Junction  Vehicles           ID\n",
       "14592 2015-11-01 00:00:00         2         6  20151101002\n",
       "14593 2015-11-01 01:00:00         2         6  20151101012\n",
       "14594 2015-11-01 02:00:00         2         5  20151101022\n",
       "14595 2015-11-01 03:00:00         2         6  20151101032\n",
       "14596 2015-11-01 04:00:00         2         7  20151101042"
      ]
     },
     "execution_count": 69,
     "metadata": {},
     "output_type": "execute_result"
    }
   ],
   "source": [
    "df_train[df_train.Junction==2].head()"
   ]
  },
  {
   "cell_type": "code",
   "execution_count": 70,
   "metadata": {
    "scrolled": true
   },
   "outputs": [
    {
     "data": {
      "text/html": [
       "<div>\n",
       "<style scoped>\n",
       "    .dataframe tbody tr th:only-of-type {\n",
       "        vertical-align: middle;\n",
       "    }\n",
       "\n",
       "    .dataframe tbody tr th {\n",
       "        vertical-align: top;\n",
       "    }\n",
       "\n",
       "    .dataframe thead th {\n",
       "        text-align: right;\n",
       "    }\n",
       "</style>\n",
       "<table border=\"1\" class=\"dataframe\">\n",
       "  <thead>\n",
       "    <tr style=\"text-align: right;\">\n",
       "      <th></th>\n",
       "      <th>DateTime</th>\n",
       "      <th>Junction</th>\n",
       "      <th>Vehicles</th>\n",
       "      <th>ID</th>\n",
       "    </tr>\n",
       "  </thead>\n",
       "  <tbody>\n",
       "    <tr>\n",
       "      <th>29184</th>\n",
       "      <td>2015-11-01 00:00:00</td>\n",
       "      <td>3</td>\n",
       "      <td>9</td>\n",
       "      <td>20151101003</td>\n",
       "    </tr>\n",
       "    <tr>\n",
       "      <th>29185</th>\n",
       "      <td>2015-11-01 01:00:00</td>\n",
       "      <td>3</td>\n",
       "      <td>7</td>\n",
       "      <td>20151101013</td>\n",
       "    </tr>\n",
       "    <tr>\n",
       "      <th>29186</th>\n",
       "      <td>2015-11-01 02:00:00</td>\n",
       "      <td>3</td>\n",
       "      <td>5</td>\n",
       "      <td>20151101023</td>\n",
       "    </tr>\n",
       "    <tr>\n",
       "      <th>29187</th>\n",
       "      <td>2015-11-01 03:00:00</td>\n",
       "      <td>3</td>\n",
       "      <td>1</td>\n",
       "      <td>20151101033</td>\n",
       "    </tr>\n",
       "    <tr>\n",
       "      <th>29188</th>\n",
       "      <td>2015-11-01 04:00:00</td>\n",
       "      <td>3</td>\n",
       "      <td>2</td>\n",
       "      <td>20151101043</td>\n",
       "    </tr>\n",
       "  </tbody>\n",
       "</table>\n",
       "</div>"
      ],
      "text/plain": [
       "                 DateTime  Junction  Vehicles           ID\n",
       "29184 2015-11-01 00:00:00         3         9  20151101003\n",
       "29185 2015-11-01 01:00:00         3         7  20151101013\n",
       "29186 2015-11-01 02:00:00         3         5  20151101023\n",
       "29187 2015-11-01 03:00:00         3         1  20151101033\n",
       "29188 2015-11-01 04:00:00         3         2  20151101043"
      ]
     },
     "execution_count": 70,
     "metadata": {},
     "output_type": "execute_result"
    }
   ],
   "source": [
    "df_train[df_train.Junction==3].head()"
   ]
  },
  {
   "cell_type": "markdown",
   "metadata": {},
   "source": [
    "So our ID is DateTime concatenated with the Junction. We reindex with DateTime and junction to ease timeseries analysis\n"
   ]
  },
  {
   "cell_type": "code",
   "execution_count": 71,
   "metadata": {
    "collapsed": true
   },
   "outputs": [],
   "source": [
    "df_train = df_train.set_index(['Junction', 'DateTime'])"
   ]
  },
  {
   "cell_type": "code",
   "execution_count": 72,
   "metadata": {},
   "outputs": [
    {
     "data": {
      "text/plain": [
       "FrozenList(['Junction', 'DateTime'])"
      ]
     },
     "execution_count": 72,
     "metadata": {},
     "output_type": "execute_result"
    }
   ],
   "source": [
    "df_train.index.names"
   ]
  },
  {
   "cell_type": "markdown",
   "metadata": {},
   "source": [
    "### Timestamp analysis"
   ]
  },
  {
   "cell_type": "code",
   "execution_count": 73,
   "metadata": {
    "collapsed": true
   },
   "outputs": [],
   "source": [
    "level_values = df_train.index.get_level_values"
   ]
  },
  {
   "cell_type": "code",
   "execution_count": 74,
   "metadata": {},
   "outputs": [
    {
     "data": {
      "text/plain": [
       "Int64Index([1, 1, 1, 1, 1, 1, 1, 1, 1, 1,\n",
       "            ...\n",
       "            4, 4, 4, 4, 4, 4, 4, 4, 4, 4],\n",
       "           dtype='int64', name='Junction', length=48120)"
      ]
     },
     "execution_count": 74,
     "metadata": {},
     "output_type": "execute_result"
    }
   ],
   "source": [
    "level_values(0)"
   ]
  },
  {
   "cell_type": "code",
   "execution_count": 75,
   "metadata": {},
   "outputs": [
    {
     "data": {
      "text/plain": [
       "DatetimeIndex(['2015-11-01 00:00:00', '2015-11-01 01:00:00',\n",
       "               '2015-11-01 02:00:00', '2015-11-01 03:00:00',\n",
       "               '2015-11-01 04:00:00', '2015-11-01 05:00:00',\n",
       "               '2015-11-01 06:00:00', '2015-11-01 07:00:00',\n",
       "               '2015-11-01 08:00:00', '2015-11-01 09:00:00',\n",
       "               ...\n",
       "               '2017-06-30 14:00:00', '2017-06-30 15:00:00',\n",
       "               '2017-06-30 16:00:00', '2017-06-30 17:00:00',\n",
       "               '2017-06-30 18:00:00', '2017-06-30 19:00:00',\n",
       "               '2017-06-30 20:00:00', '2017-06-30 21:00:00',\n",
       "               '2017-06-30 22:00:00', '2017-06-30 23:00:00'],\n",
       "              dtype='datetime64[ns]', name='DateTime', length=48120, freq=None)"
      ]
     },
     "execution_count": 75,
     "metadata": {},
     "output_type": "execute_result"
    }
   ],
   "source": [
    "level_values(1)"
   ]
  },
  {
   "cell_type": "code",
   "execution_count": 82,
   "metadata": {
    "collapsed": true
   },
   "outputs": [],
   "source": [
    "time_targets = df_train.groupby([level_values(0)] + [pd.Grouper(freq='4H', level=-1)])['Vehicles'].sum()"
   ]
  },
  {
   "cell_type": "code",
   "execution_count": 83,
   "metadata": {},
   "outputs": [
    {
     "data": {
      "text/plain": [
       "Junction  DateTime           \n",
       "1         2015-11-01 00:00:00     45\n",
       "          2015-11-01 04:00:00     32\n",
       "          2015-11-01 08:00:00     55\n",
       "          2015-11-01 12:00:00     59\n",
       "          2015-11-01 16:00:00     65\n",
       "          2015-11-01 20:00:00     71\n",
       "          2015-11-02 00:00:00     52\n",
       "          2015-11-02 04:00:00     50\n",
       "          2015-11-02 08:00:00     97\n",
       "          2015-11-02 12:00:00    125\n",
       "          2015-11-02 16:00:00    104\n",
       "          2015-11-02 20:00:00    118\n",
       "          2015-11-03 00:00:00     71\n",
       "          2015-11-03 04:00:00     47\n",
       "          2015-11-03 08:00:00    109\n",
       "          2015-11-03 12:00:00    114\n",
       "          2015-11-03 16:00:00    108\n",
       "          2015-11-03 20:00:00     95\n",
       "          2015-11-04 00:00:00     62\n",
       "          2015-11-04 04:00:00     46\n",
       "          2015-11-04 08:00:00     88\n",
       "          2015-11-04 12:00:00    104\n",
       "          2015-11-04 16:00:00     98\n",
       "          2015-11-04 20:00:00    100\n",
       "          2015-11-05 00:00:00     70\n",
       "          2015-11-05 04:00:00     46\n",
       "          2015-11-05 08:00:00     78\n",
       "          2015-11-05 12:00:00     97\n",
       "          2015-11-05 16:00:00     88\n",
       "          2015-11-05 20:00:00     85\n",
       "                                ... \n",
       "4         2017-06-26 00:00:00     20\n",
       "          2017-06-26 04:00:00     18\n",
       "          2017-06-26 08:00:00     28\n",
       "          2017-06-26 12:00:00     38\n",
       "          2017-06-26 16:00:00     40\n",
       "          2017-06-26 20:00:00     37\n",
       "          2017-06-27 00:00:00     23\n",
       "          2017-06-27 04:00:00      9\n",
       "          2017-06-27 08:00:00     28\n",
       "          2017-06-27 12:00:00     78\n",
       "          2017-06-27 16:00:00     50\n",
       "          2017-06-27 20:00:00     37\n",
       "          2017-06-28 00:00:00     25\n",
       "          2017-06-28 04:00:00     21\n",
       "          2017-06-28 08:00:00     38\n",
       "          2017-06-28 12:00:00     56\n",
       "          2017-06-28 16:00:00     56\n",
       "          2017-06-28 20:00:00     80\n",
       "          2017-06-29 00:00:00     40\n",
       "          2017-06-29 04:00:00     22\n",
       "          2017-06-29 08:00:00     49\n",
       "          2017-06-29 12:00:00     70\n",
       "          2017-06-29 16:00:00     64\n",
       "          2017-06-29 20:00:00     51\n",
       "          2017-06-30 00:00:00     27\n",
       "          2017-06-30 04:00:00     20\n",
       "          2017-06-30 08:00:00     41\n",
       "          2017-06-30 12:00:00     44\n",
       "          2017-06-30 16:00:00     60\n",
       "          2017-06-30 20:00:00     80\n",
       "Name: Vehicles, Length: 12030, dtype: int64"
      ]
     },
     "execution_count": 83,
     "metadata": {},
     "output_type": "execute_result"
    }
   ],
   "source": [
    "time_targets"
   ]
  },
  {
   "cell_type": "code",
   "execution_count": null,
   "metadata": {
    "collapsed": true
   },
   "outputs": [],
   "source": []
  }
 ],
 "metadata": {
  "kernelspec": {
   "display_name": "Python 3",
   "language": "python",
   "name": "python3"
  },
  "language_info": {
   "codemirror_mode": {
    "name": "ipython",
    "version": 3
   },
   "file_extension": ".py",
   "mimetype": "text/x-python",
   "name": "python",
   "nbconvert_exporter": "python",
   "pygments_lexer": "ipython3",
   "version": "3.6.2"
  }
 },
 "nbformat": 4,
 "nbformat_minor": 2
}
