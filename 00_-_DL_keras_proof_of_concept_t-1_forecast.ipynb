{
 "cells": [
  {
   "cell_type": "code",
   "execution_count": 1,
   "metadata": {
    "ExecuteTime": {
     "end_time": "2017-11-18T07:58:00.278104Z",
     "start_time": "2017-11-18T07:58:00.027595Z"
    },
    "collapsed": true
   },
   "outputs": [],
   "source": [
    "import numpy as np\n",
    "import pandas as pd\n",
    "import matplotlib.pyplot as plt\n"
   ]
  },
  {
   "cell_type": "code",
   "execution_count": 2,
   "metadata": {
    "ExecuteTime": {
     "end_time": "2017-11-18T07:58:00.281277Z",
     "start_time": "2017-11-18T07:58:00.279299Z"
    },
    "collapsed": true
   },
   "outputs": [],
   "source": [
    "# Display only top 5 and bottom 5 rows\n",
    "pd.set_option('display.max_rows', 10)"
   ]
  },
  {
   "cell_type": "code",
   "execution_count": 3,
   "metadata": {
    "ExecuteTime": {
     "end_time": "2017-11-18T07:58:00.290334Z",
     "start_time": "2017-11-18T07:58:00.282329Z"
    },
    "collapsed": true
   },
   "outputs": [],
   "source": [
    "def nl():\n",
    "    print('\\n')"
   ]
  },
  {
   "cell_type": "code",
   "execution_count": 4,
   "metadata": {
    "ExecuteTime": {
     "end_time": "2017-11-18T07:58:00.356863Z",
     "start_time": "2017-11-18T07:58:00.291611Z"
    }
   },
   "outputs": [
    {
     "name": "stdout",
     "output_type": "stream",
     "text": [
      "\n",
      "\n",
      "Size of training set: (48120, 4)\n",
      " Size of testing set: (11808, 3)\n",
      "\n",
      "\n",
      "Columns in train: ['DateTime', 'Junction', 'Vehicles', 'ID']\n",
      " Columns in test: ['DateTime', 'Junction', 'ID']\n"
     ]
    },
    {
     "data": {
      "text/html": [
       "<div>\n",
       "<style scoped>\n",
       "    .dataframe tbody tr th:only-of-type {\n",
       "        vertical-align: middle;\n",
       "    }\n",
       "\n",
       "    .dataframe tbody tr th {\n",
       "        vertical-align: top;\n",
       "    }\n",
       "\n",
       "    .dataframe thead th {\n",
       "        text-align: right;\n",
       "    }\n",
       "</style>\n",
       "<table border=\"1\" class=\"dataframe\">\n",
       "  <thead>\n",
       "    <tr style=\"text-align: right;\">\n",
       "      <th></th>\n",
       "      <th>DateTime</th>\n",
       "      <th>Junction</th>\n",
       "      <th>Vehicles</th>\n",
       "      <th>ID</th>\n",
       "    </tr>\n",
       "  </thead>\n",
       "  <tbody>\n",
       "    <tr>\n",
       "      <th>0</th>\n",
       "      <td>2015-11-01 00:00:00</td>\n",
       "      <td>1</td>\n",
       "      <td>15</td>\n",
       "      <td>20151101001</td>\n",
       "    </tr>\n",
       "    <tr>\n",
       "      <th>1</th>\n",
       "      <td>2015-11-01 01:00:00</td>\n",
       "      <td>1</td>\n",
       "      <td>13</td>\n",
       "      <td>20151101011</td>\n",
       "    </tr>\n",
       "    <tr>\n",
       "      <th>2</th>\n",
       "      <td>2015-11-01 02:00:00</td>\n",
       "      <td>1</td>\n",
       "      <td>10</td>\n",
       "      <td>20151101021</td>\n",
       "    </tr>\n",
       "    <tr>\n",
       "      <th>3</th>\n",
       "      <td>2015-11-01 03:00:00</td>\n",
       "      <td>1</td>\n",
       "      <td>7</td>\n",
       "      <td>20151101031</td>\n",
       "    </tr>\n",
       "    <tr>\n",
       "      <th>4</th>\n",
       "      <td>2015-11-01 04:00:00</td>\n",
       "      <td>1</td>\n",
       "      <td>9</td>\n",
       "      <td>20151101041</td>\n",
       "    </tr>\n",
       "  </tbody>\n",
       "</table>\n",
       "</div>"
      ],
      "text/plain": [
       "             DateTime  Junction  Vehicles           ID\n",
       "0 2015-11-01 00:00:00         1        15  20151101001\n",
       "1 2015-11-01 01:00:00         1        13  20151101011\n",
       "2 2015-11-01 02:00:00         1        10  20151101021\n",
       "3 2015-11-01 03:00:00         1         7  20151101031\n",
       "4 2015-11-01 04:00:00         1         9  20151101041"
      ]
     },
     "execution_count": 4,
     "metadata": {},
     "output_type": "execute_result"
    }
   ],
   "source": [
    "df_train = pd.read_csv('./data/train_aWnotuB.csv', parse_dates=[0], infer_datetime_format=True)\n",
    "df_test = pd.read_csv('./data/test_BdBKkAj.csv', parse_dates=[0], infer_datetime_format=True)\n",
    "\n",
    "nl()\n",
    "print('Size of training set: ' + str(df_train.shape))\n",
    "print(' Size of testing set: ' + str(df_test.shape))\n",
    "\n",
    "nl()\n",
    "print('Columns in train: ' + str(df_train.columns.tolist()))\n",
    "print(' Columns in test: ' + str(df_test.columns.tolist()))\n",
    "\n",
    "df_train.head()"
   ]
  },
  {
   "cell_type": "markdown",
   "metadata": {},
   "source": [
    "# Quick EDA"
   ]
  },
  {
   "cell_type": "code",
   "execution_count": 5,
   "metadata": {
    "ExecuteTime": {
     "end_time": "2017-11-18T07:58:00.364493Z",
     "start_time": "2017-11-18T07:58:00.358040Z"
    },
    "collapsed": true
   },
   "outputs": [],
   "source": [
    "df_tmp = df_train.set_index(['Junction', 'DateTime'])"
   ]
  },
  {
   "cell_type": "code",
   "execution_count": 6,
   "metadata": {
    "ExecuteTime": {
     "end_time": "2017-11-18T07:58:00.367572Z",
     "start_time": "2017-11-18T07:58:00.365656Z"
    },
    "collapsed": true
   },
   "outputs": [],
   "source": [
    "level_values = df_tmp.index.get_level_values"
   ]
  },
  {
   "cell_type": "code",
   "execution_count": 7,
   "metadata": {
    "ExecuteTime": {
     "end_time": "2017-11-18T07:58:00.383143Z",
     "start_time": "2017-11-18T07:58:00.368553Z"
    },
    "collapsed": true
   },
   "outputs": [],
   "source": [
    "time_targets = df_tmp.groupby([level_values(0)] + [pd.Grouper(freq='1M', level=-1)])['Vehicles'].sum()"
   ]
  },
  {
   "cell_type": "code",
   "execution_count": 8,
   "metadata": {
    "ExecuteTime": {
     "end_time": "2017-11-18T07:58:00.389541Z",
     "start_time": "2017-11-18T07:58:00.384543Z"
    }
   },
   "outputs": [
    {
     "data": {
      "text/plain": [
       "Junction  DateTime  \n",
       "1         2015-11-30    14736\n",
       "          2015-12-31    15487\n",
       "          2016-01-31    17940\n",
       "          2016-02-29    20813\n",
       "          2016-03-31    22215\n",
       "                        ...  \n",
       "4         2017-02-28     5564\n",
       "          2017-03-31     4931\n",
       "          2017-04-30     4454\n",
       "          2017-05-31     4877\n",
       "          2017-06-30     6097\n",
       "Name: Vehicles, Length: 66, dtype: int64"
      ]
     },
     "execution_count": 8,
     "metadata": {},
     "output_type": "execute_result"
    }
   ],
   "source": [
    "time_targets"
   ]
  },
  {
   "cell_type": "code",
   "execution_count": 9,
   "metadata": {
    "ExecuteTime": {
     "end_time": "2017-11-18T07:58:00.393919Z",
     "start_time": "2017-11-18T07:58:00.390593Z"
    },
    "collapsed": true
   },
   "outputs": [],
   "source": [
    "del df_tmp\n",
    "del time_targets"
   ]
  },
  {
   "cell_type": "markdown",
   "metadata": {},
   "source": [
    "# Feature engineering, lag_features"
   ]
  },
  {
   "cell_type": "markdown",
   "metadata": {},
   "source": [
    "## Convert each junction as a column\n",
    "We actually have 4 predictions to do, one per junction"
   ]
  },
  {
   "cell_type": "code",
   "execution_count": 10,
   "metadata": {
    "ExecuteTime": {
     "end_time": "2017-11-18T07:58:00.416099Z",
     "start_time": "2017-11-18T07:58:00.394937Z"
    }
   },
   "outputs": [
    {
     "data": {
      "text/html": [
       "<div>\n",
       "<style scoped>\n",
       "    .dataframe tbody tr th:only-of-type {\n",
       "        vertical-align: middle;\n",
       "    }\n",
       "\n",
       "    .dataframe tbody tr th {\n",
       "        vertical-align: top;\n",
       "    }\n",
       "\n",
       "    .dataframe thead th {\n",
       "        text-align: right;\n",
       "    }\n",
       "</style>\n",
       "<table border=\"1\" class=\"dataframe\">\n",
       "  <thead>\n",
       "    <tr style=\"text-align: right;\">\n",
       "      <th>Junction</th>\n",
       "      <th>1</th>\n",
       "      <th>2</th>\n",
       "      <th>3</th>\n",
       "      <th>4</th>\n",
       "    </tr>\n",
       "    <tr>\n",
       "      <th>DateTime</th>\n",
       "      <th></th>\n",
       "      <th></th>\n",
       "      <th></th>\n",
       "      <th></th>\n",
       "    </tr>\n",
       "  </thead>\n",
       "  <tbody>\n",
       "    <tr>\n",
       "      <th>2015-11-01 00:00:00</th>\n",
       "      <td>15.0</td>\n",
       "      <td>6.0</td>\n",
       "      <td>9.0</td>\n",
       "      <td>NaN</td>\n",
       "    </tr>\n",
       "    <tr>\n",
       "      <th>2015-11-01 01:00:00</th>\n",
       "      <td>13.0</td>\n",
       "      <td>6.0</td>\n",
       "      <td>7.0</td>\n",
       "      <td>NaN</td>\n",
       "    </tr>\n",
       "    <tr>\n",
       "      <th>2015-11-01 02:00:00</th>\n",
       "      <td>10.0</td>\n",
       "      <td>5.0</td>\n",
       "      <td>5.0</td>\n",
       "      <td>NaN</td>\n",
       "    </tr>\n",
       "    <tr>\n",
       "      <th>2015-11-01 03:00:00</th>\n",
       "      <td>7.0</td>\n",
       "      <td>6.0</td>\n",
       "      <td>1.0</td>\n",
       "      <td>NaN</td>\n",
       "    </tr>\n",
       "    <tr>\n",
       "      <th>2015-11-01 04:00:00</th>\n",
       "      <td>9.0</td>\n",
       "      <td>7.0</td>\n",
       "      <td>2.0</td>\n",
       "      <td>NaN</td>\n",
       "    </tr>\n",
       "    <tr>\n",
       "      <th>...</th>\n",
       "      <td>...</td>\n",
       "      <td>...</td>\n",
       "      <td>...</td>\n",
       "      <td>...</td>\n",
       "    </tr>\n",
       "    <tr>\n",
       "      <th>2017-06-30 19:00:00</th>\n",
       "      <td>105.0</td>\n",
       "      <td>34.0</td>\n",
       "      <td>33.0</td>\n",
       "      <td>11.0</td>\n",
       "    </tr>\n",
       "    <tr>\n",
       "      <th>2017-06-30 20:00:00</th>\n",
       "      <td>96.0</td>\n",
       "      <td>35.0</td>\n",
       "      <td>31.0</td>\n",
       "      <td>30.0</td>\n",
       "    </tr>\n",
       "    <tr>\n",
       "      <th>2017-06-30 21:00:00</th>\n",
       "      <td>90.0</td>\n",
       "      <td>31.0</td>\n",
       "      <td>28.0</td>\n",
       "      <td>16.0</td>\n",
       "    </tr>\n",
       "    <tr>\n",
       "      <th>2017-06-30 22:00:00</th>\n",
       "      <td>84.0</td>\n",
       "      <td>29.0</td>\n",
       "      <td>26.0</td>\n",
       "      <td>22.0</td>\n",
       "    </tr>\n",
       "    <tr>\n",
       "      <th>2017-06-30 23:00:00</th>\n",
       "      <td>78.0</td>\n",
       "      <td>27.0</td>\n",
       "      <td>39.0</td>\n",
       "      <td>12.0</td>\n",
       "    </tr>\n",
       "  </tbody>\n",
       "</table>\n",
       "<p>14592 rows × 4 columns</p>\n",
       "</div>"
      ],
      "text/plain": [
       "Junction                 1     2     3     4\n",
       "DateTime                                    \n",
       "2015-11-01 00:00:00   15.0   6.0   9.0   NaN\n",
       "2015-11-01 01:00:00   13.0   6.0   7.0   NaN\n",
       "2015-11-01 02:00:00   10.0   5.0   5.0   NaN\n",
       "2015-11-01 03:00:00    7.0   6.0   1.0   NaN\n",
       "2015-11-01 04:00:00    9.0   7.0   2.0   NaN\n",
       "...                    ...   ...   ...   ...\n",
       "2017-06-30 19:00:00  105.0  34.0  33.0  11.0\n",
       "2017-06-30 20:00:00   96.0  35.0  31.0  30.0\n",
       "2017-06-30 21:00:00   90.0  31.0  28.0  16.0\n",
       "2017-06-30 22:00:00   84.0  29.0  26.0  22.0\n",
       "2017-06-30 23:00:00   78.0  27.0  39.0  12.0\n",
       "\n",
       "[14592 rows x 4 columns]"
      ]
     },
     "execution_count": 10,
     "metadata": {},
     "output_type": "execute_result"
    }
   ],
   "source": [
    "train = df_train.pivot(index='DateTime',columns='Junction', values='Vehicles')\n",
    "train"
   ]
  },
  {
   "cell_type": "markdown",
   "metadata": {},
   "source": [
    "#### Fill NaNs with 0 vehicles"
   ]
  },
  {
   "cell_type": "code",
   "execution_count": 11,
   "metadata": {
    "ExecuteTime": {
     "end_time": "2017-11-18T07:58:00.419658Z",
     "start_time": "2017-11-18T07:58:00.417380Z"
    },
    "collapsed": true
   },
   "outputs": [],
   "source": [
    "train = train.fillna(0)"
   ]
  },
  {
   "cell_type": "markdown",
   "metadata": {},
   "source": [
    "## Generate lag features"
   ]
  },
  {
   "cell_type": "code",
   "execution_count": 12,
   "metadata": {
    "ExecuteTime": {
     "end_time": "2017-11-18T07:58:00.440771Z",
     "start_time": "2017-11-18T07:58:00.420653Z"
    },
    "collapsed": true
   },
   "outputs": [],
   "source": [
    "def gen_lag_features(df, n_in=1, n_out=1, dropnan=True):\n",
    "    \"\"\"\n",
    "    Arguments:\n",
    "        data: Dataframe of observations.\n",
    "        n_in: Number of lag observations as input (X).\n",
    "        n_out: Number of forecast observations as output (y).\n",
    "        dropnan: Boolean whether or not to drop rows with NaN values.\n",
    "    Returns:\n",
    "        Dataframe.\n",
    "    \"\"\"\n",
    "    n_vars = df.shape[1]\n",
    "    cols, names = list(), list()\n",
    "    # input sequence (t-n, ... t-1)\n",
    "    for i in range(n_in, 0, -1):\n",
    "        cols.append(df.shift(i))\n",
    "        names += [('Junction %d (H-%d)' % (j+1, i)) for j in range(n_vars)]\n",
    "    # forecast sequence (t, t+1, ... t+n)\n",
    "    for i in range(0, n_out):\n",
    "        cols.append(df.shift(-i))\n",
    "        if i == 0:\n",
    "            names += [('Junction %d (H)' % (j+1)) for j in range(n_vars)]\n",
    "        else:\n",
    "            names += [('Junction %d (H+%d)' % (j+1, i)) for j in range(n_vars)]\n",
    "    # put it all together\n",
    "    agg = pd.concat(cols, axis=1)\n",
    "    agg.columns = names\n",
    "    # drop rows with NaN values\n",
    "    if dropnan:\n",
    "        agg.dropna(inplace=True)\n",
    "    return agg"
   ]
  },
  {
   "cell_type": "code",
   "execution_count": 13,
   "metadata": {
    "ExecuteTime": {
     "end_time": "2017-11-18T07:58:00.457335Z",
     "start_time": "2017-11-18T07:58:00.441972Z"
    }
   },
   "outputs": [
    {
     "data": {
      "text/html": [
       "<div>\n",
       "<style scoped>\n",
       "    .dataframe tbody tr th:only-of-type {\n",
       "        vertical-align: middle;\n",
       "    }\n",
       "\n",
       "    .dataframe tbody tr th {\n",
       "        vertical-align: top;\n",
       "    }\n",
       "\n",
       "    .dataframe thead th {\n",
       "        text-align: right;\n",
       "    }\n",
       "</style>\n",
       "<table border=\"1\" class=\"dataframe\">\n",
       "  <thead>\n",
       "    <tr style=\"text-align: right;\">\n",
       "      <th></th>\n",
       "      <th>Junction 1 (H-1)</th>\n",
       "      <th>Junction 2 (H-1)</th>\n",
       "      <th>Junction 3 (H-1)</th>\n",
       "      <th>Junction 4 (H-1)</th>\n",
       "      <th>Junction 1 (H)</th>\n",
       "      <th>Junction 2 (H)</th>\n",
       "      <th>Junction 3 (H)</th>\n",
       "      <th>Junction 4 (H)</th>\n",
       "    </tr>\n",
       "    <tr>\n",
       "      <th>DateTime</th>\n",
       "      <th></th>\n",
       "      <th></th>\n",
       "      <th></th>\n",
       "      <th></th>\n",
       "      <th></th>\n",
       "      <th></th>\n",
       "      <th></th>\n",
       "      <th></th>\n",
       "    </tr>\n",
       "  </thead>\n",
       "  <tbody>\n",
       "    <tr>\n",
       "      <th>2015-11-01 01:00:00</th>\n",
       "      <td>15.0</td>\n",
       "      <td>6.0</td>\n",
       "      <td>9.0</td>\n",
       "      <td>0.0</td>\n",
       "      <td>13.0</td>\n",
       "      <td>6.0</td>\n",
       "      <td>7.0</td>\n",
       "      <td>0.0</td>\n",
       "    </tr>\n",
       "    <tr>\n",
       "      <th>2015-11-01 02:00:00</th>\n",
       "      <td>13.0</td>\n",
       "      <td>6.0</td>\n",
       "      <td>7.0</td>\n",
       "      <td>0.0</td>\n",
       "      <td>10.0</td>\n",
       "      <td>5.0</td>\n",
       "      <td>5.0</td>\n",
       "      <td>0.0</td>\n",
       "    </tr>\n",
       "    <tr>\n",
       "      <th>2015-11-01 03:00:00</th>\n",
       "      <td>10.0</td>\n",
       "      <td>5.0</td>\n",
       "      <td>5.0</td>\n",
       "      <td>0.0</td>\n",
       "      <td>7.0</td>\n",
       "      <td>6.0</td>\n",
       "      <td>1.0</td>\n",
       "      <td>0.0</td>\n",
       "    </tr>\n",
       "    <tr>\n",
       "      <th>2015-11-01 04:00:00</th>\n",
       "      <td>7.0</td>\n",
       "      <td>6.0</td>\n",
       "      <td>1.0</td>\n",
       "      <td>0.0</td>\n",
       "      <td>9.0</td>\n",
       "      <td>7.0</td>\n",
       "      <td>2.0</td>\n",
       "      <td>0.0</td>\n",
       "    </tr>\n",
       "    <tr>\n",
       "      <th>2015-11-01 05:00:00</th>\n",
       "      <td>9.0</td>\n",
       "      <td>7.0</td>\n",
       "      <td>2.0</td>\n",
       "      <td>0.0</td>\n",
       "      <td>6.0</td>\n",
       "      <td>2.0</td>\n",
       "      <td>2.0</td>\n",
       "      <td>0.0</td>\n",
       "    </tr>\n",
       "    <tr>\n",
       "      <th>...</th>\n",
       "      <td>...</td>\n",
       "      <td>...</td>\n",
       "      <td>...</td>\n",
       "      <td>...</td>\n",
       "      <td>...</td>\n",
       "      <td>...</td>\n",
       "      <td>...</td>\n",
       "      <td>...</td>\n",
       "    </tr>\n",
       "    <tr>\n",
       "      <th>2017-06-30 19:00:00</th>\n",
       "      <td>95.0</td>\n",
       "      <td>34.0</td>\n",
       "      <td>38.0</td>\n",
       "      <td>17.0</td>\n",
       "      <td>105.0</td>\n",
       "      <td>34.0</td>\n",
       "      <td>33.0</td>\n",
       "      <td>11.0</td>\n",
       "    </tr>\n",
       "    <tr>\n",
       "      <th>2017-06-30 20:00:00</th>\n",
       "      <td>105.0</td>\n",
       "      <td>34.0</td>\n",
       "      <td>33.0</td>\n",
       "      <td>11.0</td>\n",
       "      <td>96.0</td>\n",
       "      <td>35.0</td>\n",
       "      <td>31.0</td>\n",
       "      <td>30.0</td>\n",
       "    </tr>\n",
       "    <tr>\n",
       "      <th>2017-06-30 21:00:00</th>\n",
       "      <td>96.0</td>\n",
       "      <td>35.0</td>\n",
       "      <td>31.0</td>\n",
       "      <td>30.0</td>\n",
       "      <td>90.0</td>\n",
       "      <td>31.0</td>\n",
       "      <td>28.0</td>\n",
       "      <td>16.0</td>\n",
       "    </tr>\n",
       "    <tr>\n",
       "      <th>2017-06-30 22:00:00</th>\n",
       "      <td>90.0</td>\n",
       "      <td>31.0</td>\n",
       "      <td>28.0</td>\n",
       "      <td>16.0</td>\n",
       "      <td>84.0</td>\n",
       "      <td>29.0</td>\n",
       "      <td>26.0</td>\n",
       "      <td>22.0</td>\n",
       "    </tr>\n",
       "    <tr>\n",
       "      <th>2017-06-30 23:00:00</th>\n",
       "      <td>84.0</td>\n",
       "      <td>29.0</td>\n",
       "      <td>26.0</td>\n",
       "      <td>22.0</td>\n",
       "      <td>78.0</td>\n",
       "      <td>27.0</td>\n",
       "      <td>39.0</td>\n",
       "      <td>12.0</td>\n",
       "    </tr>\n",
       "  </tbody>\n",
       "</table>\n",
       "<p>14591 rows × 8 columns</p>\n",
       "</div>"
      ],
      "text/plain": [
       "                     Junction 1 (H-1)  Junction 2 (H-1)  Junction 3 (H-1)  \\\n",
       "DateTime                                                                    \n",
       "2015-11-01 01:00:00              15.0               6.0               9.0   \n",
       "2015-11-01 02:00:00              13.0               6.0               7.0   \n",
       "2015-11-01 03:00:00              10.0               5.0               5.0   \n",
       "2015-11-01 04:00:00               7.0               6.0               1.0   \n",
       "2015-11-01 05:00:00               9.0               7.0               2.0   \n",
       "...                               ...               ...               ...   \n",
       "2017-06-30 19:00:00              95.0              34.0              38.0   \n",
       "2017-06-30 20:00:00             105.0              34.0              33.0   \n",
       "2017-06-30 21:00:00              96.0              35.0              31.0   \n",
       "2017-06-30 22:00:00              90.0              31.0              28.0   \n",
       "2017-06-30 23:00:00              84.0              29.0              26.0   \n",
       "\n",
       "                     Junction 4 (H-1)  Junction 1 (H)  Junction 2 (H)  \\\n",
       "DateTime                                                                \n",
       "2015-11-01 01:00:00               0.0            13.0             6.0   \n",
       "2015-11-01 02:00:00               0.0            10.0             5.0   \n",
       "2015-11-01 03:00:00               0.0             7.0             6.0   \n",
       "2015-11-01 04:00:00               0.0             9.0             7.0   \n",
       "2015-11-01 05:00:00               0.0             6.0             2.0   \n",
       "...                               ...             ...             ...   \n",
       "2017-06-30 19:00:00              17.0           105.0            34.0   \n",
       "2017-06-30 20:00:00              11.0            96.0            35.0   \n",
       "2017-06-30 21:00:00              30.0            90.0            31.0   \n",
       "2017-06-30 22:00:00              16.0            84.0            29.0   \n",
       "2017-06-30 23:00:00              22.0            78.0            27.0   \n",
       "\n",
       "                     Junction 3 (H)  Junction 4 (H)  \n",
       "DateTime                                             \n",
       "2015-11-01 01:00:00             7.0             0.0  \n",
       "2015-11-01 02:00:00             5.0             0.0  \n",
       "2015-11-01 03:00:00             1.0             0.0  \n",
       "2015-11-01 04:00:00             2.0             0.0  \n",
       "2015-11-01 05:00:00             2.0             0.0  \n",
       "...                             ...             ...  \n",
       "2017-06-30 19:00:00            33.0            11.0  \n",
       "2017-06-30 20:00:00            31.0            30.0  \n",
       "2017-06-30 21:00:00            28.0            16.0  \n",
       "2017-06-30 22:00:00            26.0            22.0  \n",
       "2017-06-30 23:00:00            39.0            12.0  \n",
       "\n",
       "[14591 rows x 8 columns]"
      ]
     },
     "execution_count": 13,
     "metadata": {},
     "output_type": "execute_result"
    }
   ],
   "source": [
    "Xy_train = gen_lag_features(train)\n",
    "Xy_train"
   ]
  },
  {
   "cell_type": "markdown",
   "metadata": {},
   "source": [
    "Note that the dataset does not start at 2015-11-01 midnigh anymore (there is no H-1 for midnight)"
   ]
  },
  {
   "cell_type": "markdown",
   "metadata": {},
   "source": [
    "## Normalize features"
   ]
  },
  {
   "cell_type": "code",
   "execution_count": 14,
   "metadata": {
    "ExecuteTime": {
     "end_time": "2017-11-18T07:58:00.589943Z",
     "start_time": "2017-11-18T07:58:00.458767Z"
    },
    "collapsed": true
   },
   "outputs": [],
   "source": [
    "from sklearn.preprocessing import MinMaxScaler, StandardScaler"
   ]
  },
  {
   "cell_type": "code",
   "execution_count": 15,
   "metadata": {
    "ExecuteTime": {
     "end_time": "2017-11-18T07:58:00.593494Z",
     "start_time": "2017-11-18T07:58:00.591076Z"
    },
    "collapsed": true
   },
   "outputs": [],
   "source": [
    "# scaler = MinMaxScaler(feature_range=(-1, 1))\n",
    "# scaler = StandardScaler()\n",
    "scaler = MinMaxScaler(feature_range=(0, 1))"
   ]
  },
  {
   "cell_type": "code",
   "execution_count": 16,
   "metadata": {
    "ExecuteTime": {
     "end_time": "2017-11-18T07:58:00.602557Z",
     "start_time": "2017-11-18T07:58:00.594672Z"
    },
    "collapsed": true
   },
   "outputs": [],
   "source": [
    "Xy_train[Xy_train.columns] = scaler.fit_transform(Xy_train[Xy_train.columns])"
   ]
  },
  {
   "cell_type": "code",
   "execution_count": 17,
   "metadata": {
    "ExecuteTime": {
     "end_time": "2017-11-18T07:58:00.616610Z",
     "start_time": "2017-11-18T07:58:00.604230Z"
    }
   },
   "outputs": [
    {
     "data": {
      "text/html": [
       "<div>\n",
       "<style scoped>\n",
       "    .dataframe tbody tr th:only-of-type {\n",
       "        vertical-align: middle;\n",
       "    }\n",
       "\n",
       "    .dataframe tbody tr th {\n",
       "        vertical-align: top;\n",
       "    }\n",
       "\n",
       "    .dataframe thead th {\n",
       "        text-align: right;\n",
       "    }\n",
       "</style>\n",
       "<table border=\"1\" class=\"dataframe\">\n",
       "  <thead>\n",
       "    <tr style=\"text-align: right;\">\n",
       "      <th></th>\n",
       "      <th>Junction 1 (H-1)</th>\n",
       "      <th>Junction 2 (H-1)</th>\n",
       "      <th>Junction 3 (H-1)</th>\n",
       "      <th>Junction 4 (H-1)</th>\n",
       "      <th>Junction 1 (H)</th>\n",
       "      <th>Junction 2 (H)</th>\n",
       "      <th>Junction 3 (H)</th>\n",
       "      <th>Junction 4 (H)</th>\n",
       "    </tr>\n",
       "    <tr>\n",
       "      <th>DateTime</th>\n",
       "      <th></th>\n",
       "      <th></th>\n",
       "      <th></th>\n",
       "      <th></th>\n",
       "      <th></th>\n",
       "      <th></th>\n",
       "      <th></th>\n",
       "      <th></th>\n",
       "    </tr>\n",
       "  </thead>\n",
       "  <tbody>\n",
       "    <tr>\n",
       "      <th>2015-11-01 01:00:00</th>\n",
       "      <td>0.066225</td>\n",
       "      <td>0.106383</td>\n",
       "      <td>0.044693</td>\n",
       "      <td>0.000000</td>\n",
       "      <td>0.052980</td>\n",
       "      <td>0.106383</td>\n",
       "      <td>0.033520</td>\n",
       "      <td>0.000000</td>\n",
       "    </tr>\n",
       "    <tr>\n",
       "      <th>2015-11-01 02:00:00</th>\n",
       "      <td>0.052980</td>\n",
       "      <td>0.106383</td>\n",
       "      <td>0.033520</td>\n",
       "      <td>0.000000</td>\n",
       "      <td>0.033113</td>\n",
       "      <td>0.085106</td>\n",
       "      <td>0.022346</td>\n",
       "      <td>0.000000</td>\n",
       "    </tr>\n",
       "    <tr>\n",
       "      <th>2015-11-01 03:00:00</th>\n",
       "      <td>0.033113</td>\n",
       "      <td>0.085106</td>\n",
       "      <td>0.022346</td>\n",
       "      <td>0.000000</td>\n",
       "      <td>0.013245</td>\n",
       "      <td>0.106383</td>\n",
       "      <td>0.000000</td>\n",
       "      <td>0.000000</td>\n",
       "    </tr>\n",
       "    <tr>\n",
       "      <th>2015-11-01 04:00:00</th>\n",
       "      <td>0.013245</td>\n",
       "      <td>0.106383</td>\n",
       "      <td>0.000000</td>\n",
       "      <td>0.000000</td>\n",
       "      <td>0.026490</td>\n",
       "      <td>0.127660</td>\n",
       "      <td>0.005587</td>\n",
       "      <td>0.000000</td>\n",
       "    </tr>\n",
       "    <tr>\n",
       "      <th>2015-11-01 05:00:00</th>\n",
       "      <td>0.026490</td>\n",
       "      <td>0.127660</td>\n",
       "      <td>0.005587</td>\n",
       "      <td>0.000000</td>\n",
       "      <td>0.006623</td>\n",
       "      <td>0.021277</td>\n",
       "      <td>0.005587</td>\n",
       "      <td>0.000000</td>\n",
       "    </tr>\n",
       "    <tr>\n",
       "      <th>...</th>\n",
       "      <td>...</td>\n",
       "      <td>...</td>\n",
       "      <td>...</td>\n",
       "      <td>...</td>\n",
       "      <td>...</td>\n",
       "      <td>...</td>\n",
       "      <td>...</td>\n",
       "      <td>...</td>\n",
       "    </tr>\n",
       "    <tr>\n",
       "      <th>2017-06-30 19:00:00</th>\n",
       "      <td>0.596026</td>\n",
       "      <td>0.702128</td>\n",
       "      <td>0.206704</td>\n",
       "      <td>0.472222</td>\n",
       "      <td>0.662252</td>\n",
       "      <td>0.702128</td>\n",
       "      <td>0.178771</td>\n",
       "      <td>0.305556</td>\n",
       "    </tr>\n",
       "    <tr>\n",
       "      <th>2017-06-30 20:00:00</th>\n",
       "      <td>0.662252</td>\n",
       "      <td>0.702128</td>\n",
       "      <td>0.178771</td>\n",
       "      <td>0.305556</td>\n",
       "      <td>0.602649</td>\n",
       "      <td>0.723404</td>\n",
       "      <td>0.167598</td>\n",
       "      <td>0.833333</td>\n",
       "    </tr>\n",
       "    <tr>\n",
       "      <th>2017-06-30 21:00:00</th>\n",
       "      <td>0.602649</td>\n",
       "      <td>0.723404</td>\n",
       "      <td>0.167598</td>\n",
       "      <td>0.833333</td>\n",
       "      <td>0.562914</td>\n",
       "      <td>0.638298</td>\n",
       "      <td>0.150838</td>\n",
       "      <td>0.444444</td>\n",
       "    </tr>\n",
       "    <tr>\n",
       "      <th>2017-06-30 22:00:00</th>\n",
       "      <td>0.562914</td>\n",
       "      <td>0.638298</td>\n",
       "      <td>0.150838</td>\n",
       "      <td>0.444444</td>\n",
       "      <td>0.523179</td>\n",
       "      <td>0.595745</td>\n",
       "      <td>0.139665</td>\n",
       "      <td>0.611111</td>\n",
       "    </tr>\n",
       "    <tr>\n",
       "      <th>2017-06-30 23:00:00</th>\n",
       "      <td>0.523179</td>\n",
       "      <td>0.595745</td>\n",
       "      <td>0.139665</td>\n",
       "      <td>0.611111</td>\n",
       "      <td>0.483444</td>\n",
       "      <td>0.553191</td>\n",
       "      <td>0.212291</td>\n",
       "      <td>0.333333</td>\n",
       "    </tr>\n",
       "  </tbody>\n",
       "</table>\n",
       "<p>14591 rows × 8 columns</p>\n",
       "</div>"
      ],
      "text/plain": [
       "                     Junction 1 (H-1)  Junction 2 (H-1)  Junction 3 (H-1)  \\\n",
       "DateTime                                                                    \n",
       "2015-11-01 01:00:00          0.066225          0.106383          0.044693   \n",
       "2015-11-01 02:00:00          0.052980          0.106383          0.033520   \n",
       "2015-11-01 03:00:00          0.033113          0.085106          0.022346   \n",
       "2015-11-01 04:00:00          0.013245          0.106383          0.000000   \n",
       "2015-11-01 05:00:00          0.026490          0.127660          0.005587   \n",
       "...                               ...               ...               ...   \n",
       "2017-06-30 19:00:00          0.596026          0.702128          0.206704   \n",
       "2017-06-30 20:00:00          0.662252          0.702128          0.178771   \n",
       "2017-06-30 21:00:00          0.602649          0.723404          0.167598   \n",
       "2017-06-30 22:00:00          0.562914          0.638298          0.150838   \n",
       "2017-06-30 23:00:00          0.523179          0.595745          0.139665   \n",
       "\n",
       "                     Junction 4 (H-1)  Junction 1 (H)  Junction 2 (H)  \\\n",
       "DateTime                                                                \n",
       "2015-11-01 01:00:00          0.000000        0.052980        0.106383   \n",
       "2015-11-01 02:00:00          0.000000        0.033113        0.085106   \n",
       "2015-11-01 03:00:00          0.000000        0.013245        0.106383   \n",
       "2015-11-01 04:00:00          0.000000        0.026490        0.127660   \n",
       "2015-11-01 05:00:00          0.000000        0.006623        0.021277   \n",
       "...                               ...             ...             ...   \n",
       "2017-06-30 19:00:00          0.472222        0.662252        0.702128   \n",
       "2017-06-30 20:00:00          0.305556        0.602649        0.723404   \n",
       "2017-06-30 21:00:00          0.833333        0.562914        0.638298   \n",
       "2017-06-30 22:00:00          0.444444        0.523179        0.595745   \n",
       "2017-06-30 23:00:00          0.611111        0.483444        0.553191   \n",
       "\n",
       "                     Junction 3 (H)  Junction 4 (H)  \n",
       "DateTime                                             \n",
       "2015-11-01 01:00:00        0.033520        0.000000  \n",
       "2015-11-01 02:00:00        0.022346        0.000000  \n",
       "2015-11-01 03:00:00        0.000000        0.000000  \n",
       "2015-11-01 04:00:00        0.005587        0.000000  \n",
       "2015-11-01 05:00:00        0.005587        0.000000  \n",
       "...                             ...             ...  \n",
       "2017-06-30 19:00:00        0.178771        0.305556  \n",
       "2017-06-30 20:00:00        0.167598        0.833333  \n",
       "2017-06-30 21:00:00        0.150838        0.444444  \n",
       "2017-06-30 22:00:00        0.139665        0.611111  \n",
       "2017-06-30 23:00:00        0.212291        0.333333  \n",
       "\n",
       "[14591 rows x 8 columns]"
      ]
     },
     "execution_count": 17,
     "metadata": {},
     "output_type": "execute_result"
    }
   ],
   "source": [
    "Xy_train"
   ]
  },
  {
   "cell_type": "markdown",
   "metadata": {},
   "source": [
    "## Split train and valid (and normalize for real)"
   ]
  },
  {
   "cell_type": "code",
   "execution_count": 18,
   "metadata": {
    "ExecuteTime": {
     "end_time": "2017-11-18T07:58:00.630042Z",
     "start_time": "2017-11-18T07:58:00.618220Z"
    }
   },
   "outputs": [
    {
     "data": {
      "text/html": [
       "<div>\n",
       "<style scoped>\n",
       "    .dataframe tbody tr th:only-of-type {\n",
       "        vertical-align: middle;\n",
       "    }\n",
       "\n",
       "    .dataframe tbody tr th {\n",
       "        vertical-align: top;\n",
       "    }\n",
       "\n",
       "    .dataframe thead th {\n",
       "        text-align: right;\n",
       "    }\n",
       "</style>\n",
       "<table border=\"1\" class=\"dataframe\">\n",
       "  <thead>\n",
       "    <tr style=\"text-align: right;\">\n",
       "      <th></th>\n",
       "      <th>Junction 1 (H-1)</th>\n",
       "      <th>Junction 2 (H-1)</th>\n",
       "      <th>Junction 3 (H-1)</th>\n",
       "      <th>Junction 4 (H-1)</th>\n",
       "    </tr>\n",
       "    <tr>\n",
       "      <th>DateTime</th>\n",
       "      <th></th>\n",
       "      <th></th>\n",
       "      <th></th>\n",
       "      <th></th>\n",
       "    </tr>\n",
       "  </thead>\n",
       "  <tbody>\n",
       "    <tr>\n",
       "      <th>2015-11-01 01:00:00</th>\n",
       "      <td>0.066225</td>\n",
       "      <td>0.106383</td>\n",
       "      <td>0.044693</td>\n",
       "      <td>0.000000</td>\n",
       "    </tr>\n",
       "    <tr>\n",
       "      <th>2015-11-01 02:00:00</th>\n",
       "      <td>0.052980</td>\n",
       "      <td>0.106383</td>\n",
       "      <td>0.033520</td>\n",
       "      <td>0.000000</td>\n",
       "    </tr>\n",
       "    <tr>\n",
       "      <th>2015-11-01 03:00:00</th>\n",
       "      <td>0.033113</td>\n",
       "      <td>0.085106</td>\n",
       "      <td>0.022346</td>\n",
       "      <td>0.000000</td>\n",
       "    </tr>\n",
       "    <tr>\n",
       "      <th>2015-11-01 04:00:00</th>\n",
       "      <td>0.013245</td>\n",
       "      <td>0.106383</td>\n",
       "      <td>0.000000</td>\n",
       "      <td>0.000000</td>\n",
       "    </tr>\n",
       "    <tr>\n",
       "      <th>2015-11-01 05:00:00</th>\n",
       "      <td>0.026490</td>\n",
       "      <td>0.127660</td>\n",
       "      <td>0.005587</td>\n",
       "      <td>0.000000</td>\n",
       "    </tr>\n",
       "    <tr>\n",
       "      <th>...</th>\n",
       "      <td>...</td>\n",
       "      <td>...</td>\n",
       "      <td>...</td>\n",
       "      <td>...</td>\n",
       "    </tr>\n",
       "    <tr>\n",
       "      <th>2017-03-31 19:00:00</th>\n",
       "      <td>0.476821</td>\n",
       "      <td>0.574468</td>\n",
       "      <td>0.178771</td>\n",
       "      <td>0.166667</td>\n",
       "    </tr>\n",
       "    <tr>\n",
       "      <th>2017-03-31 20:00:00</th>\n",
       "      <td>0.496689</td>\n",
       "      <td>0.531915</td>\n",
       "      <td>0.156425</td>\n",
       "      <td>0.222222</td>\n",
       "    </tr>\n",
       "    <tr>\n",
       "      <th>2017-03-31 21:00:00</th>\n",
       "      <td>0.483444</td>\n",
       "      <td>0.638298</td>\n",
       "      <td>0.156425</td>\n",
       "      <td>0.222222</td>\n",
       "    </tr>\n",
       "    <tr>\n",
       "      <th>2017-03-31 22:00:00</th>\n",
       "      <td>0.403974</td>\n",
       "      <td>0.574468</td>\n",
       "      <td>0.150838</td>\n",
       "      <td>0.250000</td>\n",
       "    </tr>\n",
       "    <tr>\n",
       "      <th>2017-03-31 23:00:00</th>\n",
       "      <td>0.423841</td>\n",
       "      <td>0.553191</td>\n",
       "      <td>0.162011</td>\n",
       "      <td>0.166667</td>\n",
       "    </tr>\n",
       "  </tbody>\n",
       "</table>\n",
       "<p>12407 rows × 4 columns</p>\n",
       "</div>"
      ],
      "text/plain": [
       "                     Junction 1 (H-1)  Junction 2 (H-1)  Junction 3 (H-1)  \\\n",
       "DateTime                                                                    \n",
       "2015-11-01 01:00:00          0.066225          0.106383          0.044693   \n",
       "2015-11-01 02:00:00          0.052980          0.106383          0.033520   \n",
       "2015-11-01 03:00:00          0.033113          0.085106          0.022346   \n",
       "2015-11-01 04:00:00          0.013245          0.106383          0.000000   \n",
       "2015-11-01 05:00:00          0.026490          0.127660          0.005587   \n",
       "...                               ...               ...               ...   \n",
       "2017-03-31 19:00:00          0.476821          0.574468          0.178771   \n",
       "2017-03-31 20:00:00          0.496689          0.531915          0.156425   \n",
       "2017-03-31 21:00:00          0.483444          0.638298          0.156425   \n",
       "2017-03-31 22:00:00          0.403974          0.574468          0.150838   \n",
       "2017-03-31 23:00:00          0.423841          0.553191          0.162011   \n",
       "\n",
       "                     Junction 4 (H-1)  \n",
       "DateTime                               \n",
       "2015-11-01 01:00:00          0.000000  \n",
       "2015-11-01 02:00:00          0.000000  \n",
       "2015-11-01 03:00:00          0.000000  \n",
       "2015-11-01 04:00:00          0.000000  \n",
       "2015-11-01 05:00:00          0.000000  \n",
       "...                               ...  \n",
       "2017-03-31 19:00:00          0.166667  \n",
       "2017-03-31 20:00:00          0.222222  \n",
       "2017-03-31 21:00:00          0.222222  \n",
       "2017-03-31 22:00:00          0.250000  \n",
       "2017-03-31 23:00:00          0.166667  \n",
       "\n",
       "[12407 rows x 4 columns]"
      ]
     },
     "execution_count": 18,
     "metadata": {},
     "output_type": "execute_result"
    }
   ],
   "source": [
    "X_train = Xy_train[Xy_train.index < '2017-04-01'].iloc[:,0:4]\n",
    "X_train"
   ]
  },
  {
   "cell_type": "code",
   "execution_count": 19,
   "metadata": {
    "ExecuteTime": {
     "end_time": "2017-11-18T07:58:00.643078Z",
     "start_time": "2017-11-18T07:58:00.631507Z"
    }
   },
   "outputs": [
    {
     "data": {
      "text/html": [
       "<div>\n",
       "<style scoped>\n",
       "    .dataframe tbody tr th:only-of-type {\n",
       "        vertical-align: middle;\n",
       "    }\n",
       "\n",
       "    .dataframe tbody tr th {\n",
       "        vertical-align: top;\n",
       "    }\n",
       "\n",
       "    .dataframe thead th {\n",
       "        text-align: right;\n",
       "    }\n",
       "</style>\n",
       "<table border=\"1\" class=\"dataframe\">\n",
       "  <thead>\n",
       "    <tr style=\"text-align: right;\">\n",
       "      <th></th>\n",
       "      <th>Junction 1 (H)</th>\n",
       "      <th>Junction 2 (H)</th>\n",
       "      <th>Junction 3 (H)</th>\n",
       "      <th>Junction 4 (H)</th>\n",
       "    </tr>\n",
       "    <tr>\n",
       "      <th>DateTime</th>\n",
       "      <th></th>\n",
       "      <th></th>\n",
       "      <th></th>\n",
       "      <th></th>\n",
       "    </tr>\n",
       "  </thead>\n",
       "  <tbody>\n",
       "    <tr>\n",
       "      <th>2015-11-01 01:00:00</th>\n",
       "      <td>0.052980</td>\n",
       "      <td>0.106383</td>\n",
       "      <td>0.033520</td>\n",
       "      <td>0.000000</td>\n",
       "    </tr>\n",
       "    <tr>\n",
       "      <th>2015-11-01 02:00:00</th>\n",
       "      <td>0.033113</td>\n",
       "      <td>0.085106</td>\n",
       "      <td>0.022346</td>\n",
       "      <td>0.000000</td>\n",
       "    </tr>\n",
       "    <tr>\n",
       "      <th>2015-11-01 03:00:00</th>\n",
       "      <td>0.013245</td>\n",
       "      <td>0.106383</td>\n",
       "      <td>0.000000</td>\n",
       "      <td>0.000000</td>\n",
       "    </tr>\n",
       "    <tr>\n",
       "      <th>2015-11-01 04:00:00</th>\n",
       "      <td>0.026490</td>\n",
       "      <td>0.127660</td>\n",
       "      <td>0.005587</td>\n",
       "      <td>0.000000</td>\n",
       "    </tr>\n",
       "    <tr>\n",
       "      <th>2015-11-01 05:00:00</th>\n",
       "      <td>0.006623</td>\n",
       "      <td>0.021277</td>\n",
       "      <td>0.005587</td>\n",
       "      <td>0.000000</td>\n",
       "    </tr>\n",
       "    <tr>\n",
       "      <th>...</th>\n",
       "      <td>...</td>\n",
       "      <td>...</td>\n",
       "      <td>...</td>\n",
       "      <td>...</td>\n",
       "    </tr>\n",
       "    <tr>\n",
       "      <th>2017-03-31 19:00:00</th>\n",
       "      <td>0.496689</td>\n",
       "      <td>0.531915</td>\n",
       "      <td>0.156425</td>\n",
       "      <td>0.222222</td>\n",
       "    </tr>\n",
       "    <tr>\n",
       "      <th>2017-03-31 20:00:00</th>\n",
       "      <td>0.483444</td>\n",
       "      <td>0.638298</td>\n",
       "      <td>0.156425</td>\n",
       "      <td>0.222222</td>\n",
       "    </tr>\n",
       "    <tr>\n",
       "      <th>2017-03-31 21:00:00</th>\n",
       "      <td>0.403974</td>\n",
       "      <td>0.574468</td>\n",
       "      <td>0.150838</td>\n",
       "      <td>0.250000</td>\n",
       "    </tr>\n",
       "    <tr>\n",
       "      <th>2017-03-31 22:00:00</th>\n",
       "      <td>0.423841</td>\n",
       "      <td>0.553191</td>\n",
       "      <td>0.162011</td>\n",
       "      <td>0.166667</td>\n",
       "    </tr>\n",
       "    <tr>\n",
       "      <th>2017-03-31 23:00:00</th>\n",
       "      <td>0.417219</td>\n",
       "      <td>0.553191</td>\n",
       "      <td>0.162011</td>\n",
       "      <td>0.166667</td>\n",
       "    </tr>\n",
       "  </tbody>\n",
       "</table>\n",
       "<p>12407 rows × 4 columns</p>\n",
       "</div>"
      ],
      "text/plain": [
       "                     Junction 1 (H)  Junction 2 (H)  Junction 3 (H)  \\\n",
       "DateTime                                                              \n",
       "2015-11-01 01:00:00        0.052980        0.106383        0.033520   \n",
       "2015-11-01 02:00:00        0.033113        0.085106        0.022346   \n",
       "2015-11-01 03:00:00        0.013245        0.106383        0.000000   \n",
       "2015-11-01 04:00:00        0.026490        0.127660        0.005587   \n",
       "2015-11-01 05:00:00        0.006623        0.021277        0.005587   \n",
       "...                             ...             ...             ...   \n",
       "2017-03-31 19:00:00        0.496689        0.531915        0.156425   \n",
       "2017-03-31 20:00:00        0.483444        0.638298        0.156425   \n",
       "2017-03-31 21:00:00        0.403974        0.574468        0.150838   \n",
       "2017-03-31 22:00:00        0.423841        0.553191        0.162011   \n",
       "2017-03-31 23:00:00        0.417219        0.553191        0.162011   \n",
       "\n",
       "                     Junction 4 (H)  \n",
       "DateTime                             \n",
       "2015-11-01 01:00:00        0.000000  \n",
       "2015-11-01 02:00:00        0.000000  \n",
       "2015-11-01 03:00:00        0.000000  \n",
       "2015-11-01 04:00:00        0.000000  \n",
       "2015-11-01 05:00:00        0.000000  \n",
       "...                             ...  \n",
       "2017-03-31 19:00:00        0.222222  \n",
       "2017-03-31 20:00:00        0.222222  \n",
       "2017-03-31 21:00:00        0.250000  \n",
       "2017-03-31 22:00:00        0.166667  \n",
       "2017-03-31 23:00:00        0.166667  \n",
       "\n",
       "[12407 rows x 4 columns]"
      ]
     },
     "execution_count": 19,
     "metadata": {},
     "output_type": "execute_result"
    }
   ],
   "source": [
    "y_train = Xy_train[Xy_train.index < '2017-04-01'].iloc[:,4:]\n",
    "y_train"
   ]
  },
  {
   "cell_type": "markdown",
   "metadata": {},
   "source": [
    "## Reshape the Data"
   ]
  },
  {
   "cell_type": "code",
   "execution_count": 20,
   "metadata": {
    "ExecuteTime": {
     "end_time": "2017-11-18T07:58:00.647835Z",
     "start_time": "2017-11-18T07:58:00.644636Z"
    }
   },
   "outputs": [
    {
     "name": "stdout",
     "output_type": "stream",
     "text": [
      "(12407, 4) (12407, 4)\n"
     ]
    }
   ],
   "source": [
    "print(X_train.shape, y_train.shape)"
   ]
  },
  {
   "cell_type": "markdown",
   "metadata": {},
   "source": [
    "We have the following dimensions:\n",
    "(Batch_size, junctions, features) with Batch_size = 12407, junctions = 4, features = 1\n",
    "\n",
    "junctions can be thought as \"Colors\" and \"channels\" in image predictions"
   ]
  },
  {
   "cell_type": "code",
   "execution_count": 21,
   "metadata": {
    "ExecuteTime": {
     "end_time": "2017-11-18T07:58:00.654520Z",
     "start_time": "2017-11-18T07:58:00.649386Z"
    }
   },
   "outputs": [
    {
     "name": "stdout",
     "output_type": "stream",
     "text": [
      "(12407, 4, 1)\n",
      "(12407, 4)\n"
     ]
    }
   ],
   "source": [
    "X_train = np.expand_dims(X_train.values, axis=2)\n",
    "print(X_train.shape)\n",
    "\n",
    "y_train = y_train.values\n",
    "print(y_train.shape)"
   ]
  },
  {
   "cell_type": "markdown",
   "metadata": {},
   "source": [
    "# Defining and training a model"
   ]
  },
  {
   "cell_type": "code",
   "execution_count": 22,
   "metadata": {
    "ExecuteTime": {
     "end_time": "2017-11-18T07:58:02.395681Z",
     "start_time": "2017-11-18T07:58:00.655592Z"
    }
   },
   "outputs": [
    {
     "name": "stderr",
     "output_type": "stream",
     "text": [
      "Using TensorFlow backend.\n"
     ]
    }
   ],
   "source": [
    "from keras.models import Sequential\n",
    "from keras.layers import Dense\n",
    "from keras.layers import LSTM\n",
    "from keras.initializers import he_normal"
   ]
  },
  {
   "cell_type": "code",
   "execution_count": 23,
   "metadata": {
    "ExecuteTime": {
     "end_time": "2017-11-18T07:58:02.400266Z",
     "start_time": "2017-11-18T07:58:02.397258Z"
    },
    "collapsed": true
   },
   "outputs": [],
   "source": [
    "import keras.backend as K\n",
    "\n",
    "def root_mean_squared_error(y_true, y_pred):\n",
    "        return K.sqrt(K.mean(K.square(y_pred - y_true), axis=-1)) "
   ]
  },
  {
   "cell_type": "code",
   "execution_count": 24,
   "metadata": {
    "ExecuteTime": {
     "end_time": "2017-11-18T07:58:02.667185Z",
     "start_time": "2017-11-18T07:58:02.401591Z"
    },
    "collapsed": true
   },
   "outputs": [],
   "source": [
    "# Initialising the RNN\n",
    "regressor = Sequential()\n",
    "\n",
    "# Adding the input layer and the LSTM layer\n",
    "regressor.add(LSTM(units = 50,\n",
    "                   activation = 'relu', # default is tanh\n",
    "                   kernel_initializer = he_normal(seed=0),\n",
    "                   input_shape = (None, 1)))\n",
    "\n",
    "# Output for 4 junctions\n",
    "regressor.add(Dense(units = 4))\n",
    "\n",
    "# Compiling the RNN\n",
    "regressor.compile(optimizer = 'adam', loss = root_mean_squared_error)"
   ]
  },
  {
   "cell_type": "code",
   "execution_count": 25,
   "metadata": {
    "ExecuteTime": {
     "end_time": "2017-11-18T07:58:16.393125Z",
     "start_time": "2017-11-18T07:58:02.668458Z"
    }
   },
   "outputs": [
    {
     "name": "stdout",
     "output_type": "stream",
     "text": [
      "Epoch 1/25\n",
      "\n",
      "  128/12407 [..............................] - ETA: 76s - loss: 0.2951\n",
      " 1408/12407 [==>...........................] - ETA: 7s - loss: 0.2626 \n",
      " 2816/12407 [=====>........................] - ETA: 3s - loss: 0.2227\n",
      " 4096/12407 [========>.....................] - ETA: 2s - loss: 0.1876\n",
      " 5504/12407 [============>.................] - ETA: 1s - loss: 0.1558\n",
      " 6912/12407 [===============>..............] - ETA: 1s - loss: 0.1353\n",
      " 8320/12407 [===================>..........] - ETA: 1s - loss: 0.1209\n",
      " 9600/12407 [======================>.......] - ETA: 0s - loss: 0.1111\n",
      "10880/12407 [=========================>....] - ETA: 0s - loss: 0.1035\n",
      "12160/12407 [============================>.] - ETA: 0s - loss: 0.0972\n",
      "12407/12407 [==============================] - ETA: 0s - loss: 0.0961\n",
      "Epoch 2/25\n",
      "\n",
      "  128/12407 [..............................] - ETA: 1s - loss: 0.0425\n",
      " 1408/12407 [==>...........................] - ETA: 0s - loss: 0.0426\n",
      " 2816/12407 [=====>........................] - ETA: 0s - loss: 0.0417\n",
      " 4224/12407 [=========>....................] - ETA: 0s - loss: 0.0412\n",
      " 5504/12407 [============>.................] - ETA: 0s - loss: 0.0408\n",
      " 6784/12407 [===============>..............] - ETA: 0s - loss: 0.0407\n",
      " 8192/12407 [==================>...........] - ETA: 0s - loss: 0.0406\n",
      " 9600/12407 [======================>.......] - ETA: 0s - loss: 0.0404\n",
      "11008/12407 [=========================>....] - ETA: 0s - loss: 0.0402\n",
      "12288/12407 [============================>.] - ETA: 0s - loss: 0.0400\n",
      "12407/12407 [==============================] - ETA: 0s - loss: 0.0400\n",
      "Epoch 3/25\n",
      "\n",
      "  128/12407 [..............................] - ETA: 1s - loss: 0.0403\n",
      " 1536/12407 [==>...........................] - ETA: 0s - loss: 0.0383\n",
      " 2816/12407 [=====>........................] - ETA: 0s - loss: 0.0382\n",
      " 4096/12407 [========>.....................] - ETA: 0s - loss: 0.0379\n",
      " 5376/12407 [===========>..................] - ETA: 0s - loss: 0.0379\n",
      " 6784/12407 [===============>..............] - ETA: 0s - loss: 0.0382\n",
      " 8064/12407 [==================>...........] - ETA: 0s - loss: 0.0380\n",
      " 9472/12407 [=====================>........] - ETA: 0s - loss: 0.0379\n",
      "10752/12407 [========================>.....] - ETA: 0s - loss: 0.0376\n",
      "12160/12407 [============================>.] - ETA: 0s - loss: 0.0374\n",
      "12407/12407 [==============================] - ETA: 0s - loss: 0.0374\n",
      "Epoch 4/25\n",
      "\n",
      "  128/12407 [..............................] - ETA: 1s - loss: 0.0347\n",
      " 1536/12407 [==>...........................] - ETA: 0s - loss: 0.0365\n",
      " 2944/12407 [======>.......................] - ETA: 0s - loss: 0.0363\n",
      " 4352/12407 [=========>....................] - ETA: 0s - loss: 0.0364\n",
      " 5760/12407 [============>.................] - ETA: 0s - loss: 0.0366\n",
      " 7040/12407 [================>.............] - ETA: 0s - loss: 0.0364\n",
      " 8448/12407 [===================>..........] - ETA: 0s - loss: 0.0363\n",
      " 9856/12407 [======================>.......] - ETA: 0s - loss: 0.0363\n",
      "11136/12407 [=========================>....] - ETA: 0s - loss: 0.0361\n",
      "12407/12407 [==============================] - ETA: 0s - loss: 0.0360\n",
      "Epoch 5/25\n",
      "\n",
      "  128/12407 [..............................] - ETA: 1s - loss: 0.0374\n",
      " 1408/12407 [==>...........................] - ETA: 0s - loss: 0.0362\n",
      " 2816/12407 [=====>........................] - ETA: 0s - loss: 0.0359\n",
      " 4224/12407 [=========>....................] - ETA: 0s - loss: 0.0356\n",
      " 5632/12407 [============>.................] - ETA: 0s - loss: 0.0353\n",
      " 6912/12407 [===============>..............] - ETA: 0s - loss: 0.0350\n",
      " 8320/12407 [===================>..........] - ETA: 0s - loss: 0.0347\n",
      " 9728/12407 [======================>.......] - ETA: 0s - loss: 0.0347\n",
      "11136/12407 [=========================>....] - ETA: 0s - loss: 0.0346\n",
      "12407/12407 [==============================] - ETA: 0s - loss: 0.0346\n",
      "Epoch 6/25\n",
      "\n",
      "  128/12407 [..............................] - ETA: 1s - loss: 0.0335\n",
      " 1536/12407 [==>...........................] - ETA: 0s - loss: 0.0344\n",
      " 2944/12407 [======>.......................] - ETA: 0s - loss: 0.0342\n",
      " 4224/12407 [=========>....................] - ETA: 0s - loss: 0.0340\n",
      " 5632/12407 [============>.................] - ETA: 0s - loss: 0.0338\n",
      " 7040/12407 [================>.............] - ETA: 0s - loss: 0.0339\n",
      " 8448/12407 [===================>..........] - ETA: 0s - loss: 0.0339\n",
      " 9856/12407 [======================>.......] - ETA: 0s - loss: 0.0338\n",
      "11264/12407 [==========================>...] - ETA: 0s - loss: 0.0337\n",
      "12407/12407 [==============================] - ETA: 0s - loss: 0.0337\n",
      "Epoch 7/25\n",
      "\n",
      "  128/12407 [..............................] - ETA: 1s - loss: 0.0357\n",
      " 1408/12407 [==>...........................] - ETA: 0s - loss: 0.0338\n",
      " 2816/12407 [=====>........................] - ETA: 0s - loss: 0.0340\n",
      " 4224/12407 [=========>....................] - ETA: 0s - loss: 0.0340\n",
      " 5632/12407 [============>.................] - ETA: 0s - loss: 0.0337\n",
      " 7040/12407 [================>.............] - ETA: 0s - loss: 0.0336\n",
      " 8448/12407 [===================>..........] - ETA: 0s - loss: 0.0334\n",
      " 9856/12407 [======================>.......] - ETA: 0s - loss: 0.0333\n",
      "11264/12407 [==========================>...] - ETA: 0s - loss: 0.0333\n",
      "12407/12407 [==============================] - ETA: 0s - loss: 0.0333\n",
      "Epoch 8/25\n",
      "\n",
      "  128/12407 [..............................] - ETA: 1s - loss: 0.0321\n",
      " 1408/12407 [==>...........................] - ETA: 0s - loss: 0.0330\n",
      " 2816/12407 [=====>........................] - ETA: 0s - loss: 0.0333\n",
      " 4224/12407 [=========>....................] - ETA: 0s - loss: 0.0331\n",
      " 5632/12407 [============>.................] - ETA: 0s - loss: 0.0329\n",
      " 7040/12407 [================>.............] - ETA: 0s - loss: 0.0331\n",
      " 8448/12407 [===================>..........] - ETA: 0s - loss: 0.0331\n",
      " 9856/12407 [======================>.......] - ETA: 0s - loss: 0.0330\n",
      "11264/12407 [==========================>...] - ETA: 0s - loss: 0.0330\n",
      "12407/12407 [==============================] - ETA: 0s - loss: 0.0330\n",
      "Epoch 9/25\n",
      "\n",
      "  128/12407 [..............................] - ETA: 1s - loss: 0.0320\n",
      " 1408/12407 [==>...........................] - ETA: 0s - loss: 0.0325\n",
      " 2688/12407 [=====>........................] - ETA: 0s - loss: 0.0337\n",
      " 4096/12407 [========>.....................] - ETA: 0s - loss: 0.0336\n",
      " 5504/12407 [============>.................] - ETA: 0s - loss: 0.0335\n",
      " 6912/12407 [===============>..............] - ETA: 0s - loss: 0.0333\n",
      " 8320/12407 [===================>..........] - ETA: 0s - loss: 0.0332\n",
      " 9600/12407 [======================>.......] - ETA: 0s - loss: 0.0330\n",
      "11008/12407 [=========================>....] - ETA: 0s - loss: 0.0329\n",
      "12288/12407 [============================>.] - ETA: 0s - loss: 0.0328\n",
      "12407/12407 [==============================] - ETA: 0s - loss: 0.0328\n",
      "Epoch 10/25\n",
      "\n",
      "  128/12407 [..............................] - ETA: 1s - loss: 0.0334\n",
      " 1536/12407 [==>...........................] - ETA: 0s - loss: 0.0337\n",
      " 2816/12407 [=====>........................] - ETA: 0s - loss: 0.0329\n",
      " 4096/12407 [========>.....................] - ETA: 0s - loss: 0.0326\n",
      " 5504/12407 [============>.................] - ETA: 0s - loss: 0.0329\n",
      " 6912/12407 [===============>..............] - ETA: 0s - loss: 0.0329\n",
      " 8192/12407 [==================>...........] - ETA: 0s - loss: 0.0328\n",
      " 9472/12407 [=====================>........] - ETA: 0s - loss: 0.0328\n",
      "10752/12407 [========================>.....] - ETA: 0s - loss: 0.0329\n",
      "12032/12407 [============================>.] - ETA: 0s - loss: 0.0328\n",
      "12407/12407 [==============================] - ETA: 0s - loss: 0.0328\n",
      "Epoch 11/25\n",
      "\n",
      "  128/12407 [..............................] - ETA: 1s - loss: 0.0316\n",
      " 1408/12407 [==>...........................] - ETA: 0s - loss: 0.0320\n",
      " 2688/12407 [=====>........................] - ETA: 0s - loss: 0.0323\n",
      " 4096/12407 [========>.....................] - ETA: 0s - loss: 0.0327\n",
      " 5376/12407 [===========>..................] - ETA: 0s - loss: 0.0326\n",
      " 6656/12407 [===============>..............] - ETA: 0s - loss: 0.0325\n",
      " 7936/12407 [==================>...........] - ETA: 0s - loss: 0.0326\n",
      " 9344/12407 [=====================>........] - ETA: 0s - loss: 0.0327\n",
      "10624/12407 [========================>.....] - ETA: 0s - loss: 0.0326\n",
      "11904/12407 [===========================>..] - ETA: 0s - loss: 0.0326\n",
      "12407/12407 [==============================] - ETA: 0s - loss: 0.0327\n"
     ]
    },
    {
     "name": "stdout",
     "output_type": "stream",
     "text": [
      "Epoch 12/25\n",
      "\n",
      "  128/12407 [..............................] - ETA: 1s - loss: 0.0315\n",
      " 1408/12407 [==>...........................] - ETA: 0s - loss: 0.0327\n",
      " 2688/12407 [=====>........................] - ETA: 0s - loss: 0.0329\n",
      " 3968/12407 [========>.....................] - ETA: 0s - loss: 0.0325\n",
      " 5376/12407 [===========>..................] - ETA: 0s - loss: 0.0326\n",
      " 6784/12407 [===============>..............] - ETA: 0s - loss: 0.0326\n",
      " 8064/12407 [==================>...........] - ETA: 0s - loss: 0.0326\n",
      " 9472/12407 [=====================>........] - ETA: 0s - loss: 0.0326\n",
      "10752/12407 [========================>.....] - ETA: 0s - loss: 0.0326\n",
      "12032/12407 [============================>.] - ETA: 0s - loss: 0.0326\n",
      "12407/12407 [==============================] - ETA: 0s - loss: 0.0326\n",
      "Epoch 13/25\n",
      "\n",
      "  128/12407 [..............................] - ETA: 1s - loss: 0.0329\n",
      " 1408/12407 [==>...........................] - ETA: 0s - loss: 0.0323\n",
      " 2816/12407 [=====>........................] - ETA: 0s - loss: 0.0326\n",
      " 4224/12407 [=========>....................] - ETA: 0s - loss: 0.0328\n",
      " 5504/12407 [============>.................] - ETA: 0s - loss: 0.0326\n",
      " 6784/12407 [===============>..............] - ETA: 0s - loss: 0.0327\n",
      " 8192/12407 [==================>...........] - ETA: 0s - loss: 0.0327\n",
      " 9600/12407 [======================>.......] - ETA: 0s - loss: 0.0327\n",
      "11008/12407 [=========================>....] - ETA: 0s - loss: 0.0326\n",
      "12288/12407 [============================>.] - ETA: 0s - loss: 0.0326\n",
      "12407/12407 [==============================] - ETA: 0s - loss: 0.0326\n",
      "Epoch 14/25\n",
      "\n",
      "  128/12407 [..............................] - ETA: 1s - loss: 0.0326\n",
      " 1536/12407 [==>...........................] - ETA: 0s - loss: 0.0324\n",
      " 2944/12407 [======>.......................] - ETA: 0s - loss: 0.0324\n",
      " 4224/12407 [=========>....................] - ETA: 0s - loss: 0.0320\n",
      " 5632/12407 [============>.................] - ETA: 0s - loss: 0.0320\n",
      " 6912/12407 [===============>..............] - ETA: 0s - loss: 0.0322\n",
      " 8320/12407 [===================>..........] - ETA: 0s - loss: 0.0324\n",
      " 9728/12407 [======================>.......] - ETA: 0s - loss: 0.0326\n",
      "11136/12407 [=========================>....] - ETA: 0s - loss: 0.0325\n",
      "12407/12407 [==============================] - ETA: 0s - loss: 0.0325\n",
      "Epoch 15/25\n",
      "\n",
      "  128/12407 [..............................] - ETA: 1s - loss: 0.0298\n",
      " 1536/12407 [==>...........................] - ETA: 0s - loss: 0.0316\n",
      " 2944/12407 [======>.......................] - ETA: 0s - loss: 0.0324\n",
      " 4352/12407 [=========>....................] - ETA: 0s - loss: 0.0325\n",
      " 5760/12407 [============>.................] - ETA: 0s - loss: 0.0325\n",
      " 7168/12407 [================>.............] - ETA: 0s - loss: 0.0325\n",
      " 8448/12407 [===================>..........] - ETA: 0s - loss: 0.0325\n",
      " 9856/12407 [======================>.......] - ETA: 0s - loss: 0.0325\n",
      "11136/12407 [=========================>....] - ETA: 0s - loss: 0.0326\n",
      "12407/12407 [==============================] - ETA: 0s - loss: 0.0326\n",
      "Epoch 16/25\n",
      "\n",
      "  128/12407 [..............................] - ETA: 1s - loss: 0.0309\n",
      " 1536/12407 [==>...........................] - ETA: 0s - loss: 0.0331\n",
      " 2944/12407 [======>.......................] - ETA: 0s - loss: 0.0322\n",
      " 4352/12407 [=========>....................] - ETA: 0s - loss: 0.0321\n",
      " 5760/12407 [============>.................] - ETA: 0s - loss: 0.0322\n",
      " 7168/12407 [================>.............] - ETA: 0s - loss: 0.0323\n",
      " 8448/12407 [===================>..........] - ETA: 0s - loss: 0.0324\n",
      " 9856/12407 [======================>.......] - ETA: 0s - loss: 0.0325\n",
      "11264/12407 [==========================>...] - ETA: 0s - loss: 0.0325\n",
      "12407/12407 [==============================] - ETA: 0s - loss: 0.0325\n",
      "Epoch 17/25\n",
      "\n",
      "  128/12407 [..............................] - ETA: 1s - loss: 0.0320\n",
      " 1536/12407 [==>...........................] - ETA: 0s - loss: 0.0321\n",
      " 2944/12407 [======>.......................] - ETA: 0s - loss: 0.0321\n",
      " 4224/12407 [=========>....................] - ETA: 0s - loss: 0.0321\n",
      " 5632/12407 [============>.................] - ETA: 0s - loss: 0.0322\n",
      " 6912/12407 [===============>..............] - ETA: 0s - loss: 0.0322\n",
      " 8320/12407 [===================>..........] - ETA: 0s - loss: 0.0323\n",
      " 9728/12407 [======================>.......] - ETA: 0s - loss: 0.0322\n",
      "11008/12407 [=========================>....] - ETA: 0s - loss: 0.0323\n",
      "12288/12407 [============================>.] - ETA: 0s - loss: 0.0323\n",
      "12407/12407 [==============================] - ETA: 0s - loss: 0.0323\n",
      "Epoch 18/25\n",
      "\n",
      "  128/12407 [..............................] - ETA: 1s - loss: 0.0343\n",
      " 1408/12407 [==>...........................] - ETA: 0s - loss: 0.0323\n",
      " 2688/12407 [=====>........................] - ETA: 0s - loss: 0.0320\n",
      " 3968/12407 [========>.....................] - ETA: 0s - loss: 0.0323\n",
      " 5376/12407 [===========>..................] - ETA: 0s - loss: 0.0322\n",
      " 6784/12407 [===============>..............] - ETA: 0s - loss: 0.0323\n",
      " 8192/12407 [==================>...........] - ETA: 0s - loss: 0.0323\n",
      " 9600/12407 [======================>.......] - ETA: 0s - loss: 0.0324\n",
      "11008/12407 [=========================>....] - ETA: 0s - loss: 0.0324\n",
      "12288/12407 [============================>.] - ETA: 0s - loss: 0.0324\n",
      "12407/12407 [==============================] - ETA: 0s - loss: 0.0324\n",
      "Epoch 19/25\n",
      "\n",
      "  128/12407 [..............................] - ETA: 1s - loss: 0.0316\n",
      " 1536/12407 [==>...........................] - ETA: 0s - loss: 0.0325\n",
      " 2944/12407 [======>.......................] - ETA: 0s - loss: 0.0329\n",
      " 4352/12407 [=========>....................] - ETA: 0s - loss: 0.0325\n",
      " 5632/12407 [============>.................] - ETA: 0s - loss: 0.0325\n",
      " 7040/12407 [================>.............] - ETA: 0s - loss: 0.0324\n",
      " 8448/12407 [===================>..........] - ETA: 0s - loss: 0.0325\n",
      " 9856/12407 [======================>.......] - ETA: 0s - loss: 0.0323\n",
      "11136/12407 [=========================>....] - ETA: 0s - loss: 0.0323\n",
      "12407/12407 [==============================] - ETA: 0s - loss: 0.0323\n",
      "Epoch 20/25\n",
      "\n",
      "  128/12407 [..............................] - ETA: 1s - loss: 0.0331\n",
      " 1408/12407 [==>...........................] - ETA: 0s - loss: 0.0315\n",
      " 2816/12407 [=====>........................] - ETA: 0s - loss: 0.0318\n",
      " 4224/12407 [=========>....................] - ETA: 0s - loss: 0.0319\n",
      " 5504/12407 [============>.................] - ETA: 0s - loss: 0.0320\n",
      " 6784/12407 [===============>..............] - ETA: 0s - loss: 0.0322\n",
      " 8064/12407 [==================>...........] - ETA: 0s - loss: 0.0321\n",
      " 9472/12407 [=====================>........] - ETA: 0s - loss: 0.0321\n",
      "10880/12407 [=========================>....] - ETA: 0s - loss: 0.0321\n",
      "12288/12407 [============================>.] - ETA: 0s - loss: 0.0322\n",
      "12407/12407 [==============================] - ETA: 0s - loss: 0.0322\n",
      "Epoch 21/25\n",
      "\n",
      "  128/12407 [..............................] - ETA: 1s - loss: 0.0314\n",
      " 1536/12407 [==>...........................] - ETA: 0s - loss: 0.0321\n",
      " 2816/12407 [=====>........................] - ETA: 0s - loss: 0.0324\n",
      " 4224/12407 [=========>....................] - ETA: 0s - loss: 0.0324\n",
      " 5632/12407 [============>.................] - ETA: 0s - loss: 0.0321\n",
      " 7040/12407 [================>.............] - ETA: 0s - loss: 0.0320\n",
      " 8448/12407 [===================>..........] - ETA: 0s - loss: 0.0323\n",
      " 9856/12407 [======================>.......] - ETA: 0s - loss: 0.0322\n",
      "11136/12407 [=========================>....] - ETA: 0s - loss: 0.0323\n",
      "12407/12407 [==============================] - ETA: 0s - loss: 0.0323\n",
      "Epoch 22/25\n",
      "\n",
      "  128/12407 [..............................] - ETA: 1s - loss: 0.0333\n",
      " 1408/12407 [==>...........................] - ETA: 0s - loss: 0.0333\n",
      " 2816/12407 [=====>........................] - ETA: 0s - loss: 0.0328\n",
      " 4096/12407 [========>.....................] - ETA: 0s - loss: 0.0324\n",
      " 5376/12407 [===========>..................] - ETA: 0s - loss: 0.0325\n",
      " 6656/12407 [===============>..............] - ETA: 0s - loss: 0.0325\n",
      " 8064/12407 [==================>...........] - ETA: 0s - loss: 0.0323\n",
      " 9472/12407 [=====================>........] - ETA: 0s - loss: 0.0321\n",
      "10752/12407 [========================>.....] - ETA: 0s - loss: 0.0321\n",
      "12160/12407 [============================>.] - ETA: 0s - loss: 0.0322\n",
      "12407/12407 [==============================] - ETA: 0s - loss: 0.0322\n"
     ]
    },
    {
     "name": "stdout",
     "output_type": "stream",
     "text": [
      "Epoch 23/25\n",
      "\n",
      "  128/12407 [..............................] - ETA: 1s - loss: 0.0339\n",
      " 1536/12407 [==>...........................] - ETA: 0s - loss: 0.0323\n",
      " 2944/12407 [======>.......................] - ETA: 0s - loss: 0.0327\n",
      " 4224/12407 [=========>....................] - ETA: 0s - loss: 0.0324\n",
      " 5504/12407 [============>.................] - ETA: 0s - loss: 0.0322\n",
      " 6912/12407 [===============>..............] - ETA: 0s - loss: 0.0321\n",
      " 8192/12407 [==================>...........] - ETA: 0s - loss: 0.0323\n",
      " 9600/12407 [======================>.......] - ETA: 0s - loss: 0.0322\n",
      "11008/12407 [=========================>....] - ETA: 0s - loss: 0.0322\n",
      "12407/12407 [==============================] - ETA: 0s - loss: 0.0322\n",
      "Epoch 24/25\n",
      "\n",
      "  128/12407 [..............................] - ETA: 1s - loss: 0.0346\n",
      " 1536/12407 [==>...........................] - ETA: 0s - loss: 0.0323\n",
      " 2816/12407 [=====>........................] - ETA: 0s - loss: 0.0322\n",
      " 4224/12407 [=========>....................] - ETA: 0s - loss: 0.0324\n",
      " 5632/12407 [============>.................] - ETA: 0s - loss: 0.0326\n",
      " 7040/12407 [================>.............] - ETA: 0s - loss: 0.0325\n",
      " 8320/12407 [===================>..........] - ETA: 0s - loss: 0.0323\n",
      " 9728/12407 [======================>.......] - ETA: 0s - loss: 0.0322\n",
      "11008/12407 [=========================>....] - ETA: 0s - loss: 0.0323\n",
      "12288/12407 [============================>.] - ETA: 0s - loss: 0.0322\n",
      "12407/12407 [==============================] - ETA: 0s - loss: 0.0322\n",
      "Epoch 25/25\n",
      "\n",
      "  128/12407 [..............................] - ETA: 1s - loss: 0.0361\n",
      " 1536/12407 [==>...........................] - ETA: 0s - loss: 0.0323\n",
      " 2816/12407 [=====>........................] - ETA: 0s - loss: 0.0323\n",
      " 4096/12407 [========>.....................] - ETA: 0s - loss: 0.0323\n",
      " 5504/12407 [============>.................] - ETA: 0s - loss: 0.0323\n",
      " 6912/12407 [===============>..............] - ETA: 0s - loss: 0.0323\n",
      " 8320/12407 [===================>..........] - ETA: 0s - loss: 0.0325\n",
      " 9728/12407 [======================>.......] - ETA: 0s - loss: 0.0324\n",
      "11136/12407 [=========================>....] - ETA: 0s - loss: 0.0322\n",
      "12407/12407 [==============================] - ETA: 0s - loss: 0.0322\n"
     ]
    },
    {
     "data": {
      "text/plain": [
       "<keras.callbacks.History at 0x7f6277c358d0>"
      ]
     },
     "execution_count": 25,
     "metadata": {},
     "output_type": "execute_result"
    }
   ],
   "source": [
    "# Fitting the RNN to the Training set\n",
    "regressor.fit(X_train, y_train, batch_size = 128, epochs = 25, verbose = 1)"
   ]
  },
  {
   "cell_type": "markdown",
   "metadata": {
    "ExecuteTime": {
     "end_time": "2017-11-18T06:49:22.553588Z",
     "start_time": "2017-11-18T06:49:22.551687Z"
    }
   },
   "source": [
    "# Validating"
   ]
  },
  {
   "cell_type": "code",
   "execution_count": 26,
   "metadata": {
    "ExecuteTime": {
     "end_time": "2017-11-18T07:58:16.407666Z",
     "start_time": "2017-11-18T07:58:16.394464Z"
    }
   },
   "outputs": [
    {
     "data": {
      "text/html": [
       "<div>\n",
       "<style scoped>\n",
       "    .dataframe tbody tr th:only-of-type {\n",
       "        vertical-align: middle;\n",
       "    }\n",
       "\n",
       "    .dataframe tbody tr th {\n",
       "        vertical-align: top;\n",
       "    }\n",
       "\n",
       "    .dataframe thead th {\n",
       "        text-align: right;\n",
       "    }\n",
       "</style>\n",
       "<table border=\"1\" class=\"dataframe\">\n",
       "  <thead>\n",
       "    <tr style=\"text-align: right;\">\n",
       "      <th></th>\n",
       "      <th>Junction 1 (H-1)</th>\n",
       "      <th>Junction 2 (H-1)</th>\n",
       "      <th>Junction 3 (H-1)</th>\n",
       "      <th>Junction 4 (H-1)</th>\n",
       "    </tr>\n",
       "    <tr>\n",
       "      <th>DateTime</th>\n",
       "      <th></th>\n",
       "      <th></th>\n",
       "      <th></th>\n",
       "      <th></th>\n",
       "    </tr>\n",
       "  </thead>\n",
       "  <tbody>\n",
       "    <tr>\n",
       "      <th>2017-04-01 00:00:00</th>\n",
       "      <td>0.417219</td>\n",
       "      <td>0.553191</td>\n",
       "      <td>0.162011</td>\n",
       "      <td>0.166667</td>\n",
       "    </tr>\n",
       "    <tr>\n",
       "      <th>2017-04-01 01:00:00</th>\n",
       "      <td>0.384106</td>\n",
       "      <td>0.510638</td>\n",
       "      <td>0.122905</td>\n",
       "      <td>0.166667</td>\n",
       "    </tr>\n",
       "    <tr>\n",
       "      <th>2017-04-01 02:00:00</th>\n",
       "      <td>0.317881</td>\n",
       "      <td>0.574468</td>\n",
       "      <td>0.078212</td>\n",
       "      <td>0.138889</td>\n",
       "    </tr>\n",
       "    <tr>\n",
       "      <th>2017-04-01 03:00:00</th>\n",
       "      <td>0.238411</td>\n",
       "      <td>0.361702</td>\n",
       "      <td>0.083799</td>\n",
       "      <td>0.111111</td>\n",
       "    </tr>\n",
       "    <tr>\n",
       "      <th>2017-04-01 04:00:00</th>\n",
       "      <td>0.225166</td>\n",
       "      <td>0.361702</td>\n",
       "      <td>0.055866</td>\n",
       "      <td>0.111111</td>\n",
       "    </tr>\n",
       "    <tr>\n",
       "      <th>...</th>\n",
       "      <td>...</td>\n",
       "      <td>...</td>\n",
       "      <td>...</td>\n",
       "      <td>...</td>\n",
       "    </tr>\n",
       "    <tr>\n",
       "      <th>2017-06-30 19:00:00</th>\n",
       "      <td>0.596026</td>\n",
       "      <td>0.702128</td>\n",
       "      <td>0.206704</td>\n",
       "      <td>0.472222</td>\n",
       "    </tr>\n",
       "    <tr>\n",
       "      <th>2017-06-30 20:00:00</th>\n",
       "      <td>0.662252</td>\n",
       "      <td>0.702128</td>\n",
       "      <td>0.178771</td>\n",
       "      <td>0.305556</td>\n",
       "    </tr>\n",
       "    <tr>\n",
       "      <th>2017-06-30 21:00:00</th>\n",
       "      <td>0.602649</td>\n",
       "      <td>0.723404</td>\n",
       "      <td>0.167598</td>\n",
       "      <td>0.833333</td>\n",
       "    </tr>\n",
       "    <tr>\n",
       "      <th>2017-06-30 22:00:00</th>\n",
       "      <td>0.562914</td>\n",
       "      <td>0.638298</td>\n",
       "      <td>0.150838</td>\n",
       "      <td>0.444444</td>\n",
       "    </tr>\n",
       "    <tr>\n",
       "      <th>2017-06-30 23:00:00</th>\n",
       "      <td>0.523179</td>\n",
       "      <td>0.595745</td>\n",
       "      <td>0.139665</td>\n",
       "      <td>0.611111</td>\n",
       "    </tr>\n",
       "  </tbody>\n",
       "</table>\n",
       "<p>2184 rows × 4 columns</p>\n",
       "</div>"
      ],
      "text/plain": [
       "                     Junction 1 (H-1)  Junction 2 (H-1)  Junction 3 (H-1)  \\\n",
       "DateTime                                                                    \n",
       "2017-04-01 00:00:00          0.417219          0.553191          0.162011   \n",
       "2017-04-01 01:00:00          0.384106          0.510638          0.122905   \n",
       "2017-04-01 02:00:00          0.317881          0.574468          0.078212   \n",
       "2017-04-01 03:00:00          0.238411          0.361702          0.083799   \n",
       "2017-04-01 04:00:00          0.225166          0.361702          0.055866   \n",
       "...                               ...               ...               ...   \n",
       "2017-06-30 19:00:00          0.596026          0.702128          0.206704   \n",
       "2017-06-30 20:00:00          0.662252          0.702128          0.178771   \n",
       "2017-06-30 21:00:00          0.602649          0.723404          0.167598   \n",
       "2017-06-30 22:00:00          0.562914          0.638298          0.150838   \n",
       "2017-06-30 23:00:00          0.523179          0.595745          0.139665   \n",
       "\n",
       "                     Junction 4 (H-1)  \n",
       "DateTime                               \n",
       "2017-04-01 00:00:00          0.166667  \n",
       "2017-04-01 01:00:00          0.166667  \n",
       "2017-04-01 02:00:00          0.138889  \n",
       "2017-04-01 03:00:00          0.111111  \n",
       "2017-04-01 04:00:00          0.111111  \n",
       "...                               ...  \n",
       "2017-06-30 19:00:00          0.472222  \n",
       "2017-06-30 20:00:00          0.305556  \n",
       "2017-06-30 21:00:00          0.833333  \n",
       "2017-06-30 22:00:00          0.444444  \n",
       "2017-06-30 23:00:00          0.611111  \n",
       "\n",
       "[2184 rows x 4 columns]"
      ]
     },
     "execution_count": 26,
     "metadata": {},
     "output_type": "execute_result"
    }
   ],
   "source": [
    "X_valid = Xy_train[Xy_train.index >= '2017-04-01'].iloc[:,0:4]\n",
    "X_valid"
   ]
  },
  {
   "cell_type": "code",
   "execution_count": 27,
   "metadata": {
    "ExecuteTime": {
     "end_time": "2017-11-18T07:58:16.412942Z",
     "start_time": "2017-11-18T07:58:16.408758Z"
    },
    "collapsed": true
   },
   "outputs": [],
   "source": [
    "X_valid = np.expand_dims(X_valid.values, axis=2)"
   ]
  },
  {
   "cell_type": "code",
   "execution_count": 28,
   "metadata": {
    "ExecuteTime": {
     "end_time": "2017-11-18T07:58:16.536919Z",
     "start_time": "2017-11-18T07:58:16.414098Z"
    },
    "collapsed": true
   },
   "outputs": [],
   "source": [
    "y_pred = regressor.predict(X_valid)"
   ]
  },
  {
   "cell_type": "code",
   "execution_count": 29,
   "metadata": {
    "ExecuteTime": {
     "end_time": "2017-11-18T07:58:16.540641Z",
     "start_time": "2017-11-18T07:58:16.538119Z"
    },
    "collapsed": true,
    "scrolled": true
   },
   "outputs": [],
   "source": [
    "# We rescale y in the integer count range\n",
    "# To do that we must first reconcatenate with the X data as scaler expects a shape of 8\n",
    "\n",
    "y_pred = scaler.inverse_transform(np.concatenate((X_valid.squeeze(), y_pred), axis = 1))[:, 4:]"
   ]
  },
  {
   "cell_type": "code",
   "execution_count": 30,
   "metadata": {
    "ExecuteTime": {
     "end_time": "2017-11-18T07:58:16.547786Z",
     "start_time": "2017-11-18T07:58:16.541795Z"
    }
   },
   "outputs": [
    {
     "data": {
      "text/plain": [
       "array([[  65.91468313,   25.39552939,   23.70431116,    7.06105739],\n",
       "       [  61.52063251,   23.44733906,   17.40749882,    6.80152202],\n",
       "       [  48.55064473,   23.78885856,    8.41054807,    5.18977618],\n",
       "       ..., \n",
       "       [ 107.75789869,   36.12657791,   22.51998513,   15.98233831],\n",
       "       [  91.32769555,   29.06533414,   23.49875508,   12.69209504],\n",
       "       [  89.90044576,   28.50936747,   19.0962181 ,   13.76738727]])"
      ]
     },
     "execution_count": 30,
     "metadata": {},
     "output_type": "execute_result"
    }
   ],
   "source": [
    "y_pred"
   ]
  },
  {
   "cell_type": "code",
   "execution_count": 31,
   "metadata": {
    "ExecuteTime": {
     "end_time": "2017-11-18T07:58:16.558781Z",
     "start_time": "2017-11-18T07:58:16.548838Z"
    }
   },
   "outputs": [
    {
     "data": {
      "text/html": [
       "<div>\n",
       "<style scoped>\n",
       "    .dataframe tbody tr th:only-of-type {\n",
       "        vertical-align: middle;\n",
       "    }\n",
       "\n",
       "    .dataframe tbody tr th {\n",
       "        vertical-align: top;\n",
       "    }\n",
       "\n",
       "    .dataframe thead th {\n",
       "        text-align: right;\n",
       "    }\n",
       "</style>\n",
       "<table border=\"1\" class=\"dataframe\">\n",
       "  <thead>\n",
       "    <tr style=\"text-align: right;\">\n",
       "      <th>Junction</th>\n",
       "      <th>1</th>\n",
       "      <th>2</th>\n",
       "      <th>3</th>\n",
       "      <th>4</th>\n",
       "    </tr>\n",
       "    <tr>\n",
       "      <th>DateTime</th>\n",
       "      <th></th>\n",
       "      <th></th>\n",
       "      <th></th>\n",
       "      <th></th>\n",
       "    </tr>\n",
       "  </thead>\n",
       "  <tbody>\n",
       "    <tr>\n",
       "      <th>2017-04-01 00:00:00</th>\n",
       "      <td>63.0</td>\n",
       "      <td>25.0</td>\n",
       "      <td>23.0</td>\n",
       "      <td>6.0</td>\n",
       "    </tr>\n",
       "    <tr>\n",
       "      <th>2017-04-01 01:00:00</th>\n",
       "      <td>53.0</td>\n",
       "      <td>28.0</td>\n",
       "      <td>15.0</td>\n",
       "      <td>5.0</td>\n",
       "    </tr>\n",
       "    <tr>\n",
       "      <th>2017-04-01 02:00:00</th>\n",
       "      <td>41.0</td>\n",
       "      <td>18.0</td>\n",
       "      <td>16.0</td>\n",
       "      <td>4.0</td>\n",
       "    </tr>\n",
       "    <tr>\n",
       "      <th>2017-04-01 03:00:00</th>\n",
       "      <td>39.0</td>\n",
       "      <td>18.0</td>\n",
       "      <td>11.0</td>\n",
       "      <td>4.0</td>\n",
       "    </tr>\n",
       "    <tr>\n",
       "      <th>2017-04-01 04:00:00</th>\n",
       "      <td>31.0</td>\n",
       "      <td>15.0</td>\n",
       "      <td>10.0</td>\n",
       "      <td>1.0</td>\n",
       "    </tr>\n",
       "    <tr>\n",
       "      <th>...</th>\n",
       "      <td>...</td>\n",
       "      <td>...</td>\n",
       "      <td>...</td>\n",
       "      <td>...</td>\n",
       "    </tr>\n",
       "    <tr>\n",
       "      <th>2017-06-30 19:00:00</th>\n",
       "      <td>105.0</td>\n",
       "      <td>34.0</td>\n",
       "      <td>33.0</td>\n",
       "      <td>11.0</td>\n",
       "    </tr>\n",
       "    <tr>\n",
       "      <th>2017-06-30 20:00:00</th>\n",
       "      <td>96.0</td>\n",
       "      <td>35.0</td>\n",
       "      <td>31.0</td>\n",
       "      <td>30.0</td>\n",
       "    </tr>\n",
       "    <tr>\n",
       "      <th>2017-06-30 21:00:00</th>\n",
       "      <td>90.0</td>\n",
       "      <td>31.0</td>\n",
       "      <td>28.0</td>\n",
       "      <td>16.0</td>\n",
       "    </tr>\n",
       "    <tr>\n",
       "      <th>2017-06-30 22:00:00</th>\n",
       "      <td>84.0</td>\n",
       "      <td>29.0</td>\n",
       "      <td>26.0</td>\n",
       "      <td>22.0</td>\n",
       "    </tr>\n",
       "    <tr>\n",
       "      <th>2017-06-30 23:00:00</th>\n",
       "      <td>78.0</td>\n",
       "      <td>27.0</td>\n",
       "      <td>39.0</td>\n",
       "      <td>12.0</td>\n",
       "    </tr>\n",
       "  </tbody>\n",
       "</table>\n",
       "<p>2184 rows × 4 columns</p>\n",
       "</div>"
      ],
      "text/plain": [
       "Junction                 1     2     3     4\n",
       "DateTime                                    \n",
       "2017-04-01 00:00:00   63.0  25.0  23.0   6.0\n",
       "2017-04-01 01:00:00   53.0  28.0  15.0   5.0\n",
       "2017-04-01 02:00:00   41.0  18.0  16.0   4.0\n",
       "2017-04-01 03:00:00   39.0  18.0  11.0   4.0\n",
       "2017-04-01 04:00:00   31.0  15.0  10.0   1.0\n",
       "...                    ...   ...   ...   ...\n",
       "2017-06-30 19:00:00  105.0  34.0  33.0  11.0\n",
       "2017-06-30 20:00:00   96.0  35.0  31.0  30.0\n",
       "2017-06-30 21:00:00   90.0  31.0  28.0  16.0\n",
       "2017-06-30 22:00:00   84.0  29.0  26.0  22.0\n",
       "2017-06-30 23:00:00   78.0  27.0  39.0  12.0\n",
       "\n",
       "[2184 rows x 4 columns]"
      ]
     },
     "execution_count": 31,
     "metadata": {},
     "output_type": "execute_result"
    }
   ],
   "source": [
    "y_truth = train[train.index >= '2017-04-01']\n",
    "y_truth"
   ]
  },
  {
   "cell_type": "code",
   "execution_count": 32,
   "metadata": {
    "ExecuteTime": {
     "end_time": "2017-11-18T07:58:17.029466Z",
     "start_time": "2017-11-18T07:58:16.559941Z"
    }
   },
   "outputs": [
    {
     "data": {
      "image/png": "[encoded data removed]",
      "text/plain": [
       "<matplotlib.figure.Figure at 0x7f61f0052d68>"
      ]
     },
     "metadata": {},
     "output_type": "display_data"
    },
    {
     "data": {
      "image/png": "[encoded data removed]",
      "text/plain": [
       "<matplotlib.figure.Figure at 0x7f61f0077550>"
      ]
     },
     "metadata": {},
     "output_type": "display_data"
    },
    {
     "data": {
      "image/png": "[encoded data removed]",
      "text/plain": [
       "<matplotlib.figure.Figure at 0x7f61f071f390>"
      ]
     },
     "metadata": {},
     "output_type": "display_data"
    },
    {
     "data": {
      "image/png": "[encoded data removed]",
      "text/plain": [
       "<matplotlib.figure.Figure at 0x7f61f17dcbe0>"
      ]
     },
     "metadata": {},
     "output_type": "display_data"
    }
   ],
   "source": [
    "# Visualising Result for the junctions\n",
    "for junction in range(4):\n",
    "    plt.figure\n",
    "    plt.plot(y_truth.values[:,junction], color = 'green', label = 'Real traffic')\n",
    "    plt.plot(y_pred[:,junction], color = 'red', label = 'Predicted traffic')\n",
    "    plt.title('Traffic Forecasting at junction %i' % (junction+1))\n",
    "    plt.xlabel('Number of hours from Start')\n",
    "    plt.ylabel('Traffic')\n",
    "    plt.legend()\n",
    "    plt.show()"
   ]
  },
  {
   "cell_type": "code",
   "execution_count": 33,
   "metadata": {
    "ExecuteTime": {
     "end_time": "2017-11-18T07:58:17.057560Z",
     "start_time": "2017-11-18T07:58:17.030796Z"
    },
    "collapsed": true
   },
   "outputs": [],
   "source": [
    "from sklearn.metrics import mean_squared_error\n",
    "from math import sqrt\n",
    "\n",
    "def rmse(y_true, y_pred):\n",
    "    return sqrt(mean_squared_error(y_true, y_pred))"
   ]
  },
  {
   "cell_type": "code",
   "execution_count": 34,
   "metadata": {
    "ExecuteTime": {
     "end_time": "2017-11-18T07:58:17.061791Z",
     "start_time": "2017-11-18T07:58:17.058889Z"
    }
   },
   "outputs": [
    {
     "data": {
      "text/plain": [
       "5.812450286303113"
      ]
     },
     "execution_count": 34,
     "metadata": {},
     "output_type": "execute_result"
    }
   ],
   "source": [
    "rmse(y_truth, y_pred)"
   ]
  },
  {
   "cell_type": "markdown",
   "metadata": {},
   "source": [
    "# Predictions"
   ]
  },
  {
   "cell_type": "markdown",
   "metadata": {},
   "source": [
    "For predictions we will have to do a different pipeline since we don't have the previous hour traffic like in validation.\n",
    "\n",
    "- We predict step by step and previous prediction is input of the next one\n",
    "- We create 6 months min lag features\n",
    "- We predict 3 months of traffic at each point (rolling forecast)"
   ]
  }
 ],
 "metadata": {
  "kernelspec": {
   "display_name": "Python 3",
   "language": "python",
   "name": "python3"
  },
  "language_info": {
   "codemirror_mode": {
    "name": "ipython",
    "version": 3
   },
   "file_extension": ".py",
   "mimetype": "text/x-python",
   "name": "python",
   "nbconvert_exporter": "python",
   "pygments_lexer": "ipython3",
   "version": "3.6.2"
  }
 },
 "nbformat": 4,
 "nbformat_minor": 2
}
